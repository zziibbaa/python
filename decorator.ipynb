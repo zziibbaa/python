{
 "cells": [
  {
   "cell_type": "markdown",
   "id": "6d0cdefa",
   "metadata": {},
   "source": [
    "# برای اینکه رفرنس تابع مان هنگام استفاده از دکوریتور درست باشد از دکوریتور functools.wraps(func)استفاده میکنیم\n",
    "#برای اینکه ممکن است تابع ورودی داشته باشد یا ممکن است نداشته باشد در دکوریتور از *args ,**kwargsاستفاده می کنیم"
   ]
  },
  {
   "cell_type": "code",
   "execution_count": 11,
   "id": "369c47bc",
   "metadata": {},
   "outputs": [
    {
     "name": "stdout",
     "output_type": "stream",
     "text": [
      "Overwriting my_decorator.py\n"
     ]
    }
   ],
   "source": [
    "%%writefile my_decorator.py\n",
    "\n",
    "import functools \n",
    "from datetime import datetime\n",
    "\n",
    "def my_decorator(func):\n",
    "    @functools.wraps(func)\n",
    "    def not_during_night(*args , **kwargs):\n",
    "            if 7<=datetime.now().hour<20:\n",
    "                func(*args , **kwargs)\n",
    "                return func(*args , **kwargs)\n",
    "            else:\n",
    "                return'this is out of time'\n",
    "\n",
    "    return not_during_night"
   ]
  },
  {
   "cell_type": "code",
   "execution_count": 12,
   "id": "a2e30236",
   "metadata": {},
   "outputs": [],
   "source": [
    "from my_decorator import my_decorator\n",
    "@my_decorator\n",
    "def wrapper_during_morning(name):\n",
    "    print(f'good morning {name}')"
   ]
  },
  {
   "cell_type": "code",
   "execution_count": 13,
   "id": "e8cf85ac",
   "metadata": {},
   "outputs": [],
   "source": [
    "wrapper_during_morning('ziba')"
   ]
  },
  {
   "cell_type": "code",
   "execution_count": 14,
   "id": "8618a05b",
   "metadata": {},
   "outputs": [],
   "source": [
    "@my_decorator\n",
    "def say_whee():\n",
    "    print('whee')"
   ]
  },
  {
   "cell_type": "code",
   "execution_count": 15,
   "id": "28ca09d8",
   "metadata": {},
   "outputs": [],
   "source": [
    "say_whee()"
   ]
  },
  {
   "cell_type": "code",
   "execution_count": 16,
   "id": "37ce13c9",
   "metadata": {},
   "outputs": [
    {
     "data": {
      "text/plain": [
       "<function __main__.say_whee()>"
      ]
     },
     "execution_count": 16,
     "metadata": {},
     "output_type": "execute_result"
    }
   ],
   "source": [
    "say_whee"
   ]
  },
  {
   "cell_type": "code",
   "execution_count": 9,
   "id": "14edeac1",
   "metadata": {},
   "outputs": [],
   "source": [
    "import functools , time\n",
    "\n",
    "\n",
    "def timer(func):\n",
    "    \"\"\"\"print the runtimes of the decorated function\"\"\"\n",
    "    @functools.wraps(func)\n",
    "    def wrapper_timer(*args , **kwargs):\n",
    "        start_time = time.perf_counter()\n",
    "        value = func(*args, **kwargs)\n",
    "        end_time = time.perf_counter()\n",
    "        run_time = end_time-start_time\n",
    "        print(f'finished {func.__name__!r} in {run_time:.4f} secs')\n",
    "        return value\n",
    "    return wrapper_timer\n",
    "\n",
    "\n",
    "@timer\n",
    "def waste_time(num_time):\n",
    "    for _ in range (num_time):\n",
    "        return sum ([i**2 for i in range (10000)])"
   ]
  },
  {
   "cell_type": "code",
   "execution_count": 10,
   "id": "819abf82",
   "metadata": {},
   "outputs": [
    {
     "name": "stdout",
     "output_type": "stream",
     "text": [
      "finished 'waste_time' in 0.0011 secs\n"
     ]
    },
    {
     "data": {
      "text/plain": [
       "333283335000"
      ]
     },
     "execution_count": 10,
     "metadata": {},
     "output_type": "execute_result"
    }
   ],
   "source": [
    "waste_time(4)"
   ]
  },
  {
   "cell_type": "code",
   "execution_count": 11,
   "id": "0ae1d2f5",
   "metadata": {},
   "outputs": [
    {
     "data": {
      "text/plain": [
       "<function __main__.waste_time(num_time)>"
      ]
     },
     "execution_count": 11,
     "metadata": {},
     "output_type": "execute_result"
    }
   ],
   "source": [
    "waste_time"
   ]
  },
  {
   "cell_type": "code",
   "execution_count": 12,
   "id": "fa118a12",
   "metadata": {},
   "outputs": [],
   "source": [
    "import functools\n",
    "def debug(func):\n",
    "    \"\"\"print the function signature and return value \"\"\"\n",
    "    def wrapper_debug(*args,**kwargs):\n",
    "        args_repr = [repr(a) for a in args]\n",
    "        kwargs_repr = [f'{k}={v!r}' for k , v in kwargs.items()]\n",
    "        arguments = args_repr + kwargs_repr\n",
    "        signature = ' , '.join(arguments)\n",
    "        \n",
    "        print(f'calling {func.__name__} ({signature})')\n",
    "        value = func(*args,**kwargs)\n",
    "        print(f'{func.__name__!r} returned {value!r} ')\n",
    "        return value\n",
    "    return wrapper_debug\n",
    "        "
   ]
  },
  {
   "cell_type": "code",
   "execution_count": 13,
   "id": "8cbd2518",
   "metadata": {},
   "outputs": [],
   "source": [
    "@debug\n",
    "def make_greeting(name , age=None):\n",
    "    if age is None:\n",
    "        return f'Howdy {name}'\n",
    "    else:\n",
    "        return f'whoa {name}! {age} already , you are growing up'"
   ]
  },
  {
   "cell_type": "code",
   "execution_count": 14,
   "id": "b1da7479",
   "metadata": {},
   "outputs": [
    {
     "name": "stdout",
     "output_type": "stream",
     "text": [
      "calling make_greeting ('ziba' , 58)\n",
      "'make_greeting' returned 'whoa ziba! 58 already , you are growing up' \n"
     ]
    },
    {
     "data": {
      "text/plain": [
       "'whoa ziba! 58 already , you are growing up'"
      ]
     },
     "execution_count": 14,
     "metadata": {},
     "output_type": "execute_result"
    }
   ],
   "source": [
    "make_greeting('ziba' , 58)"
   ]
  },
  {
   "cell_type": "code",
   "execution_count": 15,
   "id": "9c1c4d54",
   "metadata": {},
   "outputs": [],
   "source": [
    "import math\n",
    "math.factorial= debug(math.factorial)\n",
    "\n",
    "def aproximate_e(terms=18):\n",
    "    return sum(1/math.factorial(n) for n in range(terms))"
   ]
  },
  {
   "cell_type": "code",
   "execution_count": 16,
   "id": "f0ea9797",
   "metadata": {},
   "outputs": [
    {
     "name": "stdout",
     "output_type": "stream",
     "text": [
      "calling factorial (0)\n",
      "'factorial' returned 1 \n",
      "calling factorial (1)\n",
      "'factorial' returned 1 \n",
      "calling factorial (2)\n",
      "'factorial' returned 2 \n",
      "calling factorial (3)\n",
      "'factorial' returned 6 \n",
      "calling factorial (4)\n",
      "'factorial' returned 24 \n",
      "calling factorial (5)\n",
      "'factorial' returned 120 \n",
      "calling factorial (6)\n",
      "'factorial' returned 720 \n",
      "calling factorial (7)\n",
      "'factorial' returned 5040 \n",
      "calling factorial (8)\n",
      "'factorial' returned 40320 \n",
      "calling factorial (9)\n",
      "'factorial' returned 362880 \n",
      "calling factorial (10)\n",
      "'factorial' returned 3628800 \n",
      "calling factorial (11)\n",
      "'factorial' returned 39916800 \n",
      "calling factorial (12)\n",
      "'factorial' returned 479001600 \n",
      "calling factorial (13)\n",
      "'factorial' returned 6227020800 \n",
      "calling factorial (14)\n",
      "'factorial' returned 87178291200 \n",
      "calling factorial (15)\n",
      "'factorial' returned 1307674368000 \n",
      "calling factorial (16)\n",
      "'factorial' returned 20922789888000 \n",
      "calling factorial (17)\n",
      "'factorial' returned 355687428096000 \n"
     ]
    },
    {
     "data": {
      "text/plain": [
       "2.7182818284590455"
      ]
     },
     "execution_count": 16,
     "metadata": {},
     "output_type": "execute_result"
    }
   ],
   "source": [
    "aproximate_e()"
   ]
  },
  {
   "cell_type": "code",
   "execution_count": 17,
   "id": "cb0f6e8a",
   "metadata": {},
   "outputs": [],
   "source": [
    "import functools , time\n",
    "\n",
    "def slow_down(func):\n",
    "    \"\"\"sleep one second before calling the function\"\"\"\n",
    "    @functools.wraps(func)\n",
    "    def wrapper_slow_down(*args , **kwargs):\n",
    "        time.sleep(1)\n",
    "        return func(*args, **kwargs)\n",
    "    return wrapper_slow_down\n",
    "\n",
    "@slow_down\n",
    "def count_down(num):\n",
    "    if num<1:\n",
    "        print('liftoff')\n",
    "        \n",
    "    else:\n",
    "        print(num)\n",
    "        count_down(num-1)\n",
    "        \n",
    "    "
   ]
  },
  {
   "cell_type": "code",
   "execution_count": 18,
   "id": "e6caa228",
   "metadata": {},
   "outputs": [
    {
     "name": "stdout",
     "output_type": "stream",
     "text": [
      "5\n",
      "4\n",
      "3\n",
      "2\n",
      "1\n",
      "liftoff\n"
     ]
    }
   ],
   "source": [
    "count_down(5)"
   ]
  },
  {
   "cell_type": "markdown",
   "id": "ad7d23f2",
   "metadata": {},
   "source": [
    "# اگر دکوراتور را قبل از کلاس بنویسیم دکوراتور روی متد initاثر می کند"
   ]
  },
  {
   "cell_type": "code",
   "execution_count": 19,
   "id": "8e71ccdf",
   "metadata": {},
   "outputs": [],
   "source": [
    "#@debug\n",
    "class Time_waster():\n",
    "    @debug\n",
    "    def __init__(self,max_num):\n",
    "        self.max_num=max_num\n",
    "     \n",
    "    @timer\n",
    "    def waste_time(self,num_times):\n",
    "        for _ in range(num_times):\n",
    "            sum([i**2 for i in range(num_times)])"
   ]
  },
  {
   "cell_type": "code",
   "execution_count": 20,
   "id": "3de4a9cf",
   "metadata": {},
   "outputs": [
    {
     "name": "stdout",
     "output_type": "stream",
     "text": [
      "calling __init__ (<__main__.Time_waster object at 0x0000026218527550> , 3)\n",
      "'__init__' returned None \n"
     ]
    }
   ],
   "source": [
    "t=Time_waster(3)"
   ]
  },
  {
   "cell_type": "code",
   "execution_count": 21,
   "id": "b5910cde",
   "metadata": {},
   "outputs": [
    {
     "name": "stdout",
     "output_type": "stream",
     "text": [
      "finished 'waste_time' in 0.0118 secs\n"
     ]
    }
   ],
   "source": [
    "t.waste_time(400)"
   ]
  },
  {
   "cell_type": "markdown",
   "id": "252feb36",
   "metadata": {},
   "source": [
    "# دکوراتور با ارگمان ورودی "
   ]
  },
  {
   "cell_type": "code",
   "execution_count": 22,
   "id": "69c26296",
   "metadata": {},
   "outputs": [],
   "source": [
    "import functools\n",
    "\n",
    "def repeat(num_repeat):\n",
    "    def decorator_repeat(func):\n",
    "        @functools.wraps(func)\n",
    "        def wrapper_repeat(*args,**kwargs):\n",
    "            for _ in range(num_repeat):\n",
    "                value=func(*args,**kwargs)\n",
    "            return value\n",
    "        return wrapper_repeat\n",
    "    return decorator_repeat"
   ]
  },
  {
   "cell_type": "code",
   "execution_count": 23,
   "id": "64261c8d",
   "metadata": {},
   "outputs": [],
   "source": [
    "@repeat(num_repeat=3)\n",
    "def greet(name):\n",
    "    print(f'hi {name}')"
   ]
  },
  {
   "cell_type": "code",
   "execution_count": 24,
   "id": "a1241b5b",
   "metadata": {},
   "outputs": [
    {
     "name": "stdout",
     "output_type": "stream",
     "text": [
      "hi ziba\n",
      "hi ziba\n",
      "hi ziba\n"
     ]
    }
   ],
   "source": [
    "greet('ziba')"
   ]
  },
  {
   "cell_type": "markdown",
   "id": "607a3074",
   "metadata": {},
   "source": [
    "## nested_decorator"
   ]
  },
  {
   "cell_type": "markdown",
   "id": "25ae341d",
   "metadata": {},
   "source": [
    "# در دکوریتور های تو در تو ابتدا دکوریتوری که به تابع چسبیده و نزدیک تر است اعمال می شود بعد دکوریتورهای بالایی"
   ]
  },
  {
   "cell_type": "code",
   "execution_count": 25,
   "id": "3b5645d0",
   "metadata": {},
   "outputs": [],
   "source": [
    "@debug\n",
    "@repeat(5)\n",
    "@slow_down\n",
    "def greet(name):\n",
    "    print(f'hi {name}')"
   ]
  },
  {
   "cell_type": "code",
   "execution_count": 26,
   "id": "e7aaf3fa",
   "metadata": {},
   "outputs": [
    {
     "name": "stdout",
     "output_type": "stream",
     "text": [
      "calling greet ('mohammad')\n",
      "hi mohammad\n",
      "hi mohammad\n",
      "hi mohammad\n",
      "hi mohammad\n",
      "hi mohammad\n",
      "'greet' returned None \n"
     ]
    }
   ],
   "source": [
    "greet('mohammad')"
   ]
  },
  {
   "cell_type": "markdown",
   "id": "dac71093",
   "metadata": {},
   "source": [
    "## stateful decorator"
   ]
  },
  {
   "cell_type": "code",
   "execution_count": 13,
   "id": "fb15c620",
   "metadata": {},
   "outputs": [],
   "source": [
    "import functools\n",
    "\n",
    "def count_call(func):\n",
    "    @functools.wraps(func)\n",
    "    def wrapper_count_call(*args , **kwargs):\n",
    "        wrapper_count_call.num_calls +=1 #stateful\n",
    "        print(f'call{wrapper_count_call.num_calls} of {func.__name__!r}')\n",
    "        return func(*args , **kwargs)\n",
    "    wrapper_count_call.num_calls = 0\n",
    "    return wrapper_count_call"
   ]
  },
  {
   "cell_type": "code",
   "execution_count": 28,
   "id": "d64e2e4c",
   "metadata": {},
   "outputs": [],
   "source": [
    "@count_call\n",
    "def saywhee():\n",
    "    print('whee!')"
   ]
  },
  {
   "cell_type": "code",
   "execution_count": 29,
   "id": "59b856cc",
   "metadata": {},
   "outputs": [
    {
     "name": "stdout",
     "output_type": "stream",
     "text": [
      "1 of 'saywhee'\n",
      "whee!\n"
     ]
    }
   ],
   "source": [
    "saywhee()"
   ]
  },
  {
   "cell_type": "code",
   "execution_count": 30,
   "id": "fae72838",
   "metadata": {},
   "outputs": [],
   "source": [
    "class Counter_call:\n",
    "    def __init__(self , start=0):\n",
    "        self.count = start\n",
    "        \n",
    "    def __call__(self):\n",
    "        self.count+=1\n",
    "        print(f'current count is {self.count}')"
   ]
  },
  {
   "cell_type": "code",
   "execution_count": 31,
   "id": "aa3682d7",
   "metadata": {},
   "outputs": [],
   "source": [
    "counter= Counter_call()"
   ]
  },
  {
   "cell_type": "code",
   "execution_count": 32,
   "id": "76648422",
   "metadata": {},
   "outputs": [
    {
     "name": "stdout",
     "output_type": "stream",
     "text": [
      "current count is 1\n"
     ]
    }
   ],
   "source": [
    "counter()"
   ]
  },
  {
   "cell_type": "code",
   "execution_count": 33,
   "id": "08dd9b68",
   "metadata": {},
   "outputs": [],
   "source": [
    "class Count_calls:\n",
    "    def __init__(self , func):\n",
    "        functools.update_wrapper(self ,func)\n",
    "        self.func= func\n",
    "        self.num_calls=0\n",
    "        \n",
    "    def __call__(self , *args , **kwargs):\n",
    "        self.num_calls+=1\n",
    "        print(f'call {self.num_calls} of {self.func.__name__!r}')\n",
    "        return self.func(*args , **kwargs)\n",
    "        "
   ]
  },
  {
   "cell_type": "code",
   "execution_count": 34,
   "id": "d2bf02c1",
   "metadata": {},
   "outputs": [],
   "source": [
    "@Count_calls\n",
    "def say_whee():\n",
    "    print('whee!')"
   ]
  },
  {
   "cell_type": "code",
   "execution_count": 35,
   "id": "07cd0a4f",
   "metadata": {},
   "outputs": [
    {
     "name": "stdout",
     "output_type": "stream",
     "text": [
      "call 1 of 'say_whee'\n",
      "whee!\n"
     ]
    }
   ],
   "source": [
    "say_whee()"
   ]
  },
  {
   "cell_type": "markdown",
   "id": "9d58993f",
   "metadata": {},
   "source": [
    "# دکوریتور با ارگمان ورودی بصورت آپشنال"
   ]
  },
  {
   "cell_type": "code",
   "execution_count": 50,
   "id": "80e4997c",
   "metadata": {},
   "outputs": [],
   "source": [
    "def slow_downn(_func=None , * , rate = 1):\n",
    "    def decorator_slow_downn(func):\n",
    "        @functools.wraps(func)\n",
    "        def wrapper_slow_downn(*args, **kwargs):\n",
    "            time.sleep(rate)\n",
    "            return func(*args , **kwargs)\n",
    "        return wrapper_slow_downn\n",
    "    if _func is None:\n",
    "        return decorator_slow_downn\n",
    "    else:\n",
    "        return decorator_slow_downn(_func)\n",
    "\n",
    "\n",
    "@slow_downn(rate=5)\n",
    "def count_downn(num):\n",
    "    if num<=1:\n",
    "        print(num)\n",
    "        print ('liftoff')\n",
    "    else:\n",
    "        print(num)\n",
    "        count_downn(num-1)"
   ]
  },
  {
   "cell_type": "code",
   "execution_count": 51,
   "id": "c7d887bb",
   "metadata": {},
   "outputs": [
    {
     "name": "stdout",
     "output_type": "stream",
     "text": [
      "3\n",
      "2\n",
      "1\n",
      "liftoff\n"
     ]
    }
   ],
   "source": [
    "count_downn(3)"
   ]
  },
  {
   "cell_type": "markdown",
   "id": "a04a9e63",
   "metadata": {},
   "source": [
    "# singletonیک کلاس با تنها یک نمونه است و نمی توان نمونه های بیشتری از آن ایجاد کرد\n",
    "#Fale,True,Noneهر کدام یک singletonهستند"
   ]
  },
  {
   "cell_type": "code",
   "execution_count": 57,
   "id": "b9a78e41",
   "metadata": {},
   "outputs": [],
   "source": [
    "def singleton(cls):\n",
    "    @functools.wraps(cls)\n",
    "    def wrapper_singleton(*args , **kwargs):\n",
    "        if not wrapper_singleton.instance:\n",
    "            wrapper_singleton.instance=cls(*args , **kwargs)\n",
    "            return wrapper_singleton.instance\n",
    "        wrapper_singleton.instance = None\n",
    "        return wrapper_singleton\n",
    "    \n",
    "    \n",
    "@singleton\n",
    "class TheOne:\n",
    "    pass\n",
    "            "
   ]
  },
  {
   "cell_type": "code",
   "execution_count": 59,
   "id": "2444207d",
   "metadata": {},
   "outputs": [],
   "source": [
    "first_one= TheOne"
   ]
  },
  {
   "cell_type": "code",
   "execution_count": 60,
   "id": "0d1ebb70",
   "metadata": {},
   "outputs": [],
   "source": [
    "another_one = TheOne"
   ]
  },
  {
   "cell_type": "code",
   "execution_count": 61,
   "id": "578c9071",
   "metadata": {},
   "outputs": [
    {
     "data": {
      "text/plain": [
       "140712979098352"
      ]
     },
     "execution_count": 61,
     "metadata": {},
     "output_type": "execute_result"
    }
   ],
   "source": [
    "id(first_one)"
   ]
  },
  {
   "cell_type": "code",
   "execution_count": 62,
   "id": "8b691c4a",
   "metadata": {},
   "outputs": [
    {
     "data": {
      "text/plain": [
       "140712979098352"
      ]
     },
     "execution_count": 62,
     "metadata": {},
     "output_type": "execute_result"
    }
   ],
   "source": [
    "id(another_one)"
   ]
  },
  {
   "cell_type": "code",
   "execution_count": 63,
   "id": "2316bca3",
   "metadata": {},
   "outputs": [
    {
     "data": {
      "text/plain": [
       "True"
      ]
     },
     "execution_count": 63,
     "metadata": {},
     "output_type": "execute_result"
    }
   ],
   "source": [
    "first_one is another_one"
   ]
  },
  {
   "cell_type": "markdown",
   "id": "9c88acc5",
   "metadata": {},
   "source": [
    "# cachکردن مقادیر بازگشتی"
   ]
  },
  {
   "cell_type": "code",
   "execution_count": 14,
   "id": "161831bc",
   "metadata": {},
   "outputs": [],
   "source": [
    "import functools\n",
    "def cach(func):\n",
    "    @functools.wraps(func)\n",
    "    def wrapper_cach(*args , **kwargs):\n",
    "        cach_key = args + tuple(kwargs.items())\n",
    "        if cach_key not in wrapper_cach.cach:\n",
    "            wrapper_cach.cach[cach_key] = func(*args , **kwargs)\n",
    "        return wrapper_cach.cach[cach_key]\n",
    "    wrapper_cach.cach=dict()\n",
    "    return wrapper_cach\n",
    "    \n",
    "\n",
    "    \n",
    "@cach\n",
    "@count_call\n",
    "def fibonacci(num):\n",
    "    if num<2:\n",
    "        return num\n",
    "    return fibonacci(num-1) + fibonacci(num-2)\n",
    "    "
   ]
  },
  {
   "cell_type": "code",
   "execution_count": 15,
   "id": "f9e32269",
   "metadata": {},
   "outputs": [
    {
     "name": "stdout",
     "output_type": "stream",
     "text": [
      "call1 of 'fibonacci'\n",
      "call2 of 'fibonacci'\n",
      "call3 of 'fibonacci'\n",
      "call4 of 'fibonacci'\n",
      "call5 of 'fibonacci'\n",
      "call6 of 'fibonacci'\n",
      "call7 of 'fibonacci'\n",
      "call8 of 'fibonacci'\n",
      "call9 of 'fibonacci'\n",
      "call10 of 'fibonacci'\n",
      "call11 of 'fibonacci'\n",
      "call12 of 'fibonacci'\n",
      "call13 of 'fibonacci'\n",
      "call14 of 'fibonacci'\n",
      "call15 of 'fibonacci'\n",
      "call16 of 'fibonacci'\n",
      "call17 of 'fibonacci'\n",
      "call18 of 'fibonacci'\n",
      "call19 of 'fibonacci'\n",
      "call20 of 'fibonacci'\n",
      "call21 of 'fibonacci'\n",
      "call22 of 'fibonacci'\n"
     ]
    },
    {
     "data": {
      "text/plain": [
       "10946"
      ]
     },
     "execution_count": 15,
     "metadata": {},
     "output_type": "execute_result"
    }
   ],
   "source": [
    "fibonacci(21)"
   ]
  },
  {
   "cell_type": "code",
   "execution_count": 16,
   "id": "8835a407",
   "metadata": {},
   "outputs": [
    {
     "data": {
      "text/plain": [
       "21"
      ]
     },
     "execution_count": 16,
     "metadata": {},
     "output_type": "execute_result"
    }
   ],
   "source": [
    "fibonacci(8)"
   ]
  },
  {
   "cell_type": "code",
   "execution_count": 17,
   "id": "bf41db46",
   "metadata": {},
   "outputs": [
    {
     "name": "stdout",
     "output_type": "stream",
     "text": [
      "call23 of 'fibonacci'\n",
      "call24 of 'fibonacci'\n"
     ]
    },
    {
     "data": {
      "text/plain": [
       "28657"
      ]
     },
     "execution_count": 17,
     "metadata": {},
     "output_type": "execute_result"
    }
   ],
   "source": [
    "fibonacci(23)"
   ]
  },
  {
   "cell_type": "markdown",
   "id": "dced858c",
   "metadata": {},
   "source": [
    "# cacheکردن مقادیر بازگشتی با cacheدر کتابخانه functools\n",
    "@functools.lru_cache(Least Recently Used(LRU))"
   ]
  },
  {
   "cell_type": "code",
   "execution_count": 20,
   "id": "9718c8be",
   "metadata": {},
   "outputs": [],
   "source": [
    "@count_call\n",
    "@functools.lru_cache(maxsize=7)\n",
    "def fibonacci(num):\n",
    "    if num<2:\n",
    "        return num\n",
    "    return fibonacci(num-1)+fibonacci(num-2)"
   ]
  },
  {
   "cell_type": "code",
   "execution_count": 22,
   "id": "e164097e",
   "metadata": {},
   "outputs": [
    {
     "name": "stdout",
     "output_type": "stream",
     "text": [
      "call120 of 'fibonacci'\n",
      "call121 of 'fibonacci'\n",
      "call122 of 'fibonacci'\n",
      "call123 of 'fibonacci'\n",
      "call124 of 'fibonacci'\n",
      "call125 of 'fibonacci'\n",
      "call126 of 'fibonacci'\n",
      "call127 of 'fibonacci'\n",
      "call128 of 'fibonacci'\n",
      "call129 of 'fibonacci'\n",
      "call130 of 'fibonacci'\n",
      "call131 of 'fibonacci'\n",
      "call132 of 'fibonacci'\n",
      "call133 of 'fibonacci'\n",
      "call134 of 'fibonacci'\n",
      "call135 of 'fibonacci'\n",
      "call136 of 'fibonacci'\n",
      "call137 of 'fibonacci'\n",
      "call138 of 'fibonacci'\n",
      "call139 of 'fibonacci'\n",
      "call140 of 'fibonacci'\n",
      "call141 of 'fibonacci'\n",
      "call142 of 'fibonacci'\n",
      "call143 of 'fibonacci'\n",
      "call144 of 'fibonacci'\n",
      "call145 of 'fibonacci'\n",
      "call146 of 'fibonacci'\n",
      "call147 of 'fibonacci'\n",
      "call148 of 'fibonacci'\n",
      "call149 of 'fibonacci'\n",
      "call150 of 'fibonacci'\n"
     ]
    },
    {
     "data": {
      "text/plain": [
       "987"
      ]
     },
     "execution_count": 22,
     "metadata": {},
     "output_type": "execute_result"
    }
   ],
   "source": [
    "fibonacci(16)"
   ]
  },
  {
   "cell_type": "code",
   "execution_count": 23,
   "id": "1fef1a1f",
   "metadata": {},
   "outputs": [
    {
     "name": "stdout",
     "output_type": "stream",
     "text": [
      "call151 of 'fibonacci'\n",
      "call152 of 'fibonacci'\n",
      "call153 of 'fibonacci'\n",
      "call154 of 'fibonacci'\n",
      "call155 of 'fibonacci'\n",
      "call156 of 'fibonacci'\n",
      "call157 of 'fibonacci'\n",
      "call158 of 'fibonacci'\n",
      "call159 of 'fibonacci'\n",
      "call160 of 'fibonacci'\n",
      "call161 of 'fibonacci'\n"
     ]
    },
    {
     "data": {
      "text/plain": [
       "10946"
      ]
     },
     "execution_count": 23,
     "metadata": {},
     "output_type": "execute_result"
    }
   ],
   "source": [
    "fibonacci(21)"
   ]
  }
 ],
 "metadata": {
  "kernelspec": {
   "display_name": "Python 3 (ipykernel)",
   "language": "python",
   "name": "python3"
  },
  "language_info": {
   "codemirror_mode": {
    "name": "ipython",
    "version": 3
   },
   "file_extension": ".py",
   "mimetype": "text/x-python",
   "name": "python",
   "nbconvert_exporter": "python",
   "pygments_lexer": "ipython3",
   "version": "3.11.5"
  }
 },
 "nbformat": 4,
 "nbformat_minor": 5
}
