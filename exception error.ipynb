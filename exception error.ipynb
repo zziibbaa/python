{
 "cells": [
  {
   "cell_type": "code",
   "execution_count": null,
   "id": "30ed2e10",
   "metadata": {},
   "outputs": [],
   "source": [
    "num = 8\n",
    "if num >5:\n",
    "    raise Exception(f'x should not exceed 5.the value of x was : {num}')"
   ]
  },
  {
   "cell_type": "code",
   "execution_count": 4,
   "id": "2993a0d7",
   "metadata": {},
   "outputs": [
    {
     "ename": "AssertionError",
     "evalue": "this code runs on linux only",
     "output_type": "error",
     "traceback": [
      "\u001b[1;31m---------------------------------------------------------------------------\u001b[0m",
      "\u001b[1;31mAssertionError\u001b[0m                            Traceback (most recent call last)",
      "Cell \u001b[1;32mIn[4], line 2\u001b[0m\n\u001b[0;32m      1\u001b[0m \u001b[38;5;28;01mimport\u001b[39;00m \u001b[38;5;21;01msys\u001b[39;00m\n\u001b[1;32m----> 2\u001b[0m \u001b[38;5;28;01massert\u001b[39;00m (\u001b[38;5;124m'\u001b[39m\u001b[38;5;124mlinux\u001b[39m\u001b[38;5;124m'\u001b[39m \u001b[38;5;129;01min\u001b[39;00m sys\u001b[38;5;241m.\u001b[39mplatform), \u001b[38;5;124m'\u001b[39m\u001b[38;5;124mthis code runs on linux only\u001b[39m\u001b[38;5;124m'\u001b[39m\n",
      "\u001b[1;31mAssertionError\u001b[0m: this code runs on linux only"
     ]
    }
   ],
   "source": [
    "import sys\n",
    "assert ('linux' in sys.platform), 'this code runs on linux only'"
   ]
  },
  {
   "cell_type": "code",
   "execution_count": 8,
   "id": "fd3e83a6",
   "metadata": {},
   "outputs": [],
   "source": [
    "def linux_interaction():\n",
    "    assert ('linux' in sys.platform), 'this code runs on linux only'\n",
    "    print('doing something')\n",
    "    \n",
    "    \n",
    "try:\n",
    "    linux_interaction()\n",
    "except:\n",
    "    pass"
   ]
  },
  {
   "cell_type": "code",
   "execution_count": 9,
   "id": "588b4a29",
   "metadata": {},
   "outputs": [
    {
     "ename": "AssertionError",
     "evalue": "this code runs on linux only",
     "output_type": "error",
     "traceback": [
      "\u001b[1;31m---------------------------------------------------------------------------\u001b[0m",
      "\u001b[1;31mAssertionError\u001b[0m                            Traceback (most recent call last)",
      "Cell \u001b[1;32mIn[9], line 1\u001b[0m\n\u001b[1;32m----> 1\u001b[0m \u001b[43mlinux_interaction\u001b[49m\u001b[43m(\u001b[49m\u001b[43m)\u001b[49m\n",
      "Cell \u001b[1;32mIn[8], line 2\u001b[0m, in \u001b[0;36mlinux_interaction\u001b[1;34m()\u001b[0m\n\u001b[0;32m      1\u001b[0m \u001b[38;5;28;01mdef\u001b[39;00m \u001b[38;5;21mlinux_interaction\u001b[39m():\n\u001b[1;32m----> 2\u001b[0m     \u001b[38;5;28;01massert\u001b[39;00m (\u001b[38;5;124m'\u001b[39m\u001b[38;5;124mlinux\u001b[39m\u001b[38;5;124m'\u001b[39m \u001b[38;5;129;01min\u001b[39;00m sys\u001b[38;5;241m.\u001b[39mplatform), \u001b[38;5;124m'\u001b[39m\u001b[38;5;124mthis code runs on linux only\u001b[39m\u001b[38;5;124m'\u001b[39m\n\u001b[0;32m      3\u001b[0m     \u001b[38;5;28mprint\u001b[39m(\u001b[38;5;124m'\u001b[39m\u001b[38;5;124mdoing something\u001b[39m\u001b[38;5;124m'\u001b[39m)\n",
      "\u001b[1;31mAssertionError\u001b[0m: this code runs on linux only"
     ]
    }
   ],
   "source": [
    "linux_interaction()\n"
   ]
  },
  {
   "cell_type": "code",
   "execution_count": 13,
   "id": "76a5d6b0",
   "metadata": {},
   "outputs": [
    {
     "name": "stdout",
     "output_type": "stream",
     "text": [
      "this code runs on linux only\n",
      "linux function was not executed\n"
     ]
    }
   ],
   "source": [
    "try:\n",
    "    linux_interaction()\n",
    "except AssertionError as error:\n",
    "    print(error)\n",
    "    print('linux function was not executed')\n",
    "    "
   ]
  },
  {
   "cell_type": "code",
   "execution_count": 15,
   "id": "165b45a9",
   "metadata": {},
   "outputs": [
    {
     "name": "stdout",
     "output_type": "stream",
     "text": [
      "[Errno 2] No such file or directory: 'file.log'\n",
      "couldnot open file.log\n"
     ]
    },
    {
     "data": {
      "text/plain": [
       "3125"
      ]
     },
     "execution_count": 15,
     "metadata": {},
     "output_type": "execute_result"
    }
   ],
   "source": [
    "try:\n",
    "    with open ('file.log') as file:\n",
    "        read_data=file.read()\n",
    "except FileNotFoundError as fnf_error:\n",
    "    print(fnf_error)\n",
    "    print('couldnot open file.log')\n",
    "    \n",
    "5 ** 5"
   ]
  },
  {
   "cell_type": "code",
   "execution_count": 16,
   "id": "2689b07f",
   "metadata": {},
   "outputs": [
    {
     "name": "stdout",
     "output_type": "stream",
     "text": [
      "this code runs on linux only\n"
     ]
    }
   ],
   "source": [
    "try :\n",
    "    linux_interaction()\n",
    "    with open ('file.log') as file:\n",
    "        read_data = file.read()\n",
    "        \n",
    "except FileNotFoundError as fnf_error:\n",
    "    print(fnf_error)\n",
    "except AssertionError as error:\n",
    "    print(error)"
   ]
  },
  {
   "cell_type": "code",
   "execution_count": 17,
   "id": "356ed5ed",
   "metadata": {},
   "outputs": [],
   "source": [
    "def win32_interaction():\n",
    "    assert ('win32' in sys.platform),'this code runs only in win32'\n",
    "    print('doing something')"
   ]
  },
  {
   "cell_type": "code",
   "execution_count": 21,
   "id": "780e264b",
   "metadata": {},
   "outputs": [
    {
     "name": "stdout",
     "output_type": "stream",
     "text": [
      "doing something\n",
      "[Errno 2] No such file or directory: 'file.log'\n",
      "cleaning up, irrespective of any exceptions.\n"
     ]
    }
   ],
   "source": [
    "try:\n",
    "    win32_interaction()\n",
    "except AssertionError as error:\n",
    "    print(error)\n",
    "else:\n",
    "    try:\n",
    "        with open ('file.log') as file:\n",
    "            data_read= file.read()\n",
    "    except FileNotFoundError as fnf_error:\n",
    "        print(fnf_error)\n",
    "finally:\n",
    "    print('cleaning up, irrespective of any exceptions.')"
   ]
  },
  {
   "cell_type": "code",
   "execution_count": 25,
   "id": "df2cb2fb",
   "metadata": {},
   "outputs": [
    {
     "name": "stdout",
     "output_type": "stream",
     "text": [
      "please enter integer number:5\n",
      "yes,that is an integer\n",
      "finally, i executed\n",
      "5\n"
     ]
    }
   ],
   "source": [
    "def askint():\n",
    "    while True:\n",
    "        try:\n",
    "            val=int(input('please enter integer number:'))\n",
    "        except:\n",
    "            print('look like you did not enter an integer')\n",
    "            continue\n",
    "        else:\n",
    "            print('yes,that is an integer')\n",
    "            break\n",
    "        finally:\n",
    "            print('finally, i executed')\n",
    "            \n",
    "    print(val)\n",
    "    \n",
    "    \n",
    "askint()"
   ]
  },
  {
   "cell_type": "markdown",
   "id": "b1e1c908",
   "metadata": {},
   "source": [
    "## testing software"
   ]
  },
  {
   "cell_type": "markdown",
   "id": "920c4f7b",
   "metadata": {},
   "source": [
    "## pylint"
   ]
  },
  {
   "cell_type": "markdown",
   "id": "41a4efb4",
   "metadata": {},
   "source": [
    "! pip install pylint"
   ]
  },
  {
   "cell_type": "code",
   "execution_count": 2,
   "id": "827ba7fa",
   "metadata": {},
   "outputs": [
    {
     "name": "stdout",
     "output_type": "stream",
     "text": [
      "Writing simple1.py\n"
     ]
    }
   ],
   "source": [
    "%%writefile simple1.py\n",
    "\n",
    "a= 9\n",
    "b= 12\n",
    "print(a)\n",
    "print(b)"
   ]
  },
  {
   "cell_type": "code",
   "execution_count": 3,
   "id": "44fbc442",
   "metadata": {},
   "outputs": [
    {
     "name": "stdout",
     "output_type": "stream",
     "text": [
      "************* Module simple1\n",
      "simple1.py:1:0: C0114: Missing module docstring (missing-module-docstring)\n",
      "simple1.py:2:0: C0103: Constant name \"a\" doesn't conform to UPPER_CASE naming style (invalid-name)\n",
      "simple1.py:3:0: C0103: Constant name \"b\" doesn't conform to UPPER_CASE naming style (invalid-name)\n",
      "\n",
      "-----------------------------------\n",
      "Your code has been rated at 2.50/10\n",
      "\n"
     ]
    }
   ],
   "source": [
    "! pylint simple1.py"
   ]
  },
  {
   "cell_type": "markdown",
   "id": "1f52578c",
   "metadata": {},
   "source": [
    "## unittest"
   ]
  },
  {
   "cell_type": "code",
   "execution_count": 1,
   "id": "128a4f74",
   "metadata": {},
   "outputs": [
    {
     "name": "stdout",
     "output_type": "stream",
     "text": [
      "Writing cap.py\n"
     ]
    }
   ],
   "source": [
    "%%writefile cap.py\n",
    "\n",
    "def cap_text(txt):\n",
    "    return txt.title()"
   ]
  },
  {
   "cell_type": "code",
   "execution_count": 2,
   "id": "72e9142c",
   "metadata": {},
   "outputs": [
    {
     "name": "stdout",
     "output_type": "stream",
     "text": [
      "Writing cap_test.py\n"
     ]
    }
   ],
   "source": [
    "%%writefile cap_test.py\n",
    "\n",
    "import unittest\n",
    "import cap\n",
    "\n",
    "class Test_Cap(unittest.TestCase):\n",
    "    \n",
    "    def test_one_word(self):\n",
    "        text = 'python'\n",
    "        result = cap.cap_text(text)\n",
    "        \n",
    "        self.assertEqual(result , 'Python')\n",
    "        \n",
    "        \n",
    "    def test_two_word(self):\n",
    "        text= 'monty python'\n",
    "        result = cap.cap_text(text)\n",
    "        \n",
    "        self.assertEqual(result, 'Monty Python')\n",
    "        \n",
    "        \n",
    "    def test_opostorofs(self):\n",
    "        text = \"she's a beutiful girl\"\n",
    "        result = cap.cap_text(text)\n",
    "        \n",
    "        self.assertEqual(result, \"She's A Beutiful Girl\")\n",
    "\n",
    "        \n",
    "if (__name__ == '__main__'):\n",
    "    unittest.main()\n",
    "    "
   ]
  },
  {
   "cell_type": "code",
   "execution_count": 3,
   "id": "e48e132a",
   "metadata": {},
   "outputs": [
    {
     "name": "stderr",
     "output_type": "stream",
     "text": [
      ".F.\n",
      "======================================================================\n",
      "FAIL: test_opostorofs (__main__.Test_Cap.test_opostorofs)\n",
      "----------------------------------------------------------------------\n",
      "Traceback (most recent call last):\n",
      "  File \"C:\\Users\\Hasan\\pythonProject\\cap_test.py\", line 25, in test_opostorofs\n",
      "    self.assertEqual(result, \"She's A Beutiful Girl\")\n",
      "AssertionError: \"She'S A Beutiful Girl\" != \"She's A Beutiful Girl\"\n",
      "- She'S A Beutiful Girl\n",
      "?     ^\n",
      "+ She's A Beutiful Girl\n",
      "?     ^\n",
      "\n",
      "\n",
      "----------------------------------------------------------------------\n",
      "Ran 3 tests in 0.001s\n",
      "\n",
      "FAILED (failures=1)\n"
     ]
    }
   ],
   "source": [
    "! python cap_test.py"
   ]
  },
  {
   "cell_type": "code",
   "execution_count": null,
   "id": "7f1bab7d",
   "metadata": {},
   "outputs": [],
   "source": []
  },
  {
   "cell_type": "code",
   "execution_count": null,
   "id": "718ea309",
   "metadata": {},
   "outputs": [],
   "source": []
  }
 ],
 "metadata": {
  "kernelspec": {
   "display_name": "Python 3 (ipykernel)",
   "language": "python",
   "name": "python3"
  },
  "language_info": {
   "codemirror_mode": {
    "name": "ipython",
    "version": 3
   },
   "file_extension": ".py",
   "mimetype": "text/x-python",
   "name": "python",
   "nbconvert_exporter": "python",
   "pygments_lexer": "ipython3",
   "version": "3.11.5"
  }
 },
 "nbformat": 4,
 "nbformat_minor": 5
}
