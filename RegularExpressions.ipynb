{
 "cells": [
  {
   "cell_type": "code",
   "execution_count": 2,
   "id": "358cf1da",
   "metadata": {},
   "outputs": [],
   "source": [
    "import re"
   ]
  },
  {
   "cell_type": "markdown",
   "id": "7476ffe5",
   "metadata": {},
   "source": [
    "# re.serch_re.findall_re.finditer"
   ]
  },
  {
   "cell_type": "code",
   "execution_count": 2,
   "id": "d0025b08",
   "metadata": {},
   "outputs": [],
   "source": [
    "text = 'my phone is a new phone'"
   ]
  },
  {
   "cell_type": "code",
   "execution_count": 3,
   "id": "c29c6f27",
   "metadata": {},
   "outputs": [
    {
     "data": {
      "text/plain": [
       "<re.Match object; span=(3, 8), match='phone'>"
      ]
     },
     "execution_count": 3,
     "metadata": {},
     "output_type": "execute_result"
    }
   ],
   "source": [
    "re.search('phone' , text)"
   ]
  },
  {
   "cell_type": "code",
   "execution_count": 4,
   "id": "37ca823f",
   "metadata": {},
   "outputs": [
    {
     "data": {
      "text/plain": [
       "['phone', 'phone']"
      ]
     },
     "execution_count": 4,
     "metadata": {},
     "output_type": "execute_result"
    }
   ],
   "source": [
    "re.findall('phone' , text)"
   ]
  },
  {
   "cell_type": "code",
   "execution_count": 5,
   "id": "e8b60e54",
   "metadata": {},
   "outputs": [
    {
     "name": "stdout",
     "output_type": "stream",
     "text": [
      "<re.Match object; span=(3, 8), match='phone'>\n",
      "<re.Match object; span=(18, 23), match='phone'>\n"
     ]
    }
   ],
   "source": [
    "for match in re.finditer('phone',text):\n",
    "    print(match)"
   ]
  },
  {
   "cell_type": "markdown",
   "id": "683b9f0e",
   "metadata": {},
   "source": [
    "# span()_start()_end()_group()"
   ]
  },
  {
   "cell_type": "code",
   "execution_count": 31,
   "id": "b163041f",
   "metadata": {},
   "outputs": [],
   "source": [
    "text_1='the days is a beutifull day'"
   ]
  },
  {
   "cell_type": "code",
   "execution_count": 32,
   "id": "9dd7f7e9",
   "metadata": {},
   "outputs": [],
   "source": [
    "pattern='day'"
   ]
  },
  {
   "cell_type": "code",
   "execution_count": 33,
   "id": "324da36f",
   "metadata": {},
   "outputs": [],
   "source": [
    "match=re.search(pattern,text_1)"
   ]
  },
  {
   "cell_type": "code",
   "execution_count": 34,
   "id": "4113a960",
   "metadata": {},
   "outputs": [
    {
     "data": {
      "text/plain": [
       "(4, 7)"
      ]
     },
     "execution_count": 34,
     "metadata": {},
     "output_type": "execute_result"
    }
   ],
   "source": [
    "match.span()"
   ]
  },
  {
   "cell_type": "code",
   "execution_count": 35,
   "id": "58128095",
   "metadata": {},
   "outputs": [
    {
     "data": {
      "text/plain": [
       "4"
      ]
     },
     "execution_count": 35,
     "metadata": {},
     "output_type": "execute_result"
    }
   ],
   "source": [
    "match.start()"
   ]
  },
  {
   "cell_type": "code",
   "execution_count": 36,
   "id": "7c4b57ff",
   "metadata": {},
   "outputs": [
    {
     "data": {
      "text/plain": [
       "7"
      ]
     },
     "execution_count": 36,
     "metadata": {},
     "output_type": "execute_result"
    }
   ],
   "source": [
    "match.end()"
   ]
  },
  {
   "cell_type": "code",
   "execution_count": 37,
   "id": "f1bd2c64",
   "metadata": {},
   "outputs": [
    {
     "name": "stdout",
     "output_type": "stream",
     "text": [
      "(4, 7)\n",
      "(24, 27)\n"
     ]
    }
   ],
   "source": [
    "for match in re.finditer(pattern , text_1):\n",
    "    print(match.span())"
   ]
  },
  {
   "cell_type": "code",
   "execution_count": 38,
   "id": "4b1c74c6",
   "metadata": {},
   "outputs": [
    {
     "data": {
      "text/plain": [
       "'day'"
      ]
     },
     "execution_count": 38,
     "metadata": {},
     "output_type": "execute_result"
    }
   ],
   "source": [
    "match.group()"
   ]
  },
  {
   "cell_type": "markdown",
   "id": "91628285",
   "metadata": {},
   "source": [
    "# (\\d = a digit number)(\\w = alphanumeric(a-z,digit,_))(\\s = white space)"
   ]
  },
  {
   "cell_type": "markdown",
   "id": "38cfe626",
   "metadata": {},
   "source": [
    "# (\\D = a non digit)(\\W = non alphanumeric(*(=+-)) (\\S = non-whitespace)"
   ]
  },
  {
   "cell_type": "code",
   "execution_count": 4,
   "id": "a7b1d000",
   "metadata": {},
   "outputs": [],
   "source": [
    "text= 'ziba phone number is 0912-086-9471 and fateme phone number is 0919-555-0415 and mohammad phone number is 0912-544-3986'"
   ]
  },
  {
   "cell_type": "code",
   "execution_count": 5,
   "id": "02e05302",
   "metadata": {},
   "outputs": [
    {
     "name": "stdout",
     "output_type": "stream",
     "text": [
      "['0912-086-9471', '0919-555-0415', '0912-544-3986']\n"
     ]
    }
   ],
   "source": [
    "all_phone=[]\n",
    "for match in re.finditer(r'\\d\\d\\d\\d-\\d\\d\\d-\\d\\d\\d\\d',text):\n",
    "    all_phone.append(match.group())\n",
    "     \n",
    "print(all_phone)"
   ]
  },
  {
   "cell_type": "markdown",
   "id": "27233657",
   "metadata": {},
   "source": [
    "# (+ = occuers one or more times) (? = once or none) "
   ]
  },
  {
   "cell_type": "markdown",
   "id": "c2b84f92",
   "metadata": {},
   "source": [
    "# ( \\ * = occuers zero or more times)"
   ]
  },
  {
   "cell_type": "markdown",
   "id": "be647d96",
   "metadata": {},
   "source": [
    "# ({3} = occures exactly 3 times) "
   ]
  },
  {
   "cell_type": "markdown",
   "id": "bf5718ce",
   "metadata": {},
   "source": [
    "# ( {2,4} = occures 2to4 times) ( {,3} = occures 3 or more times)"
   ]
  },
  {
   "cell_type": "code",
   "execution_count": 77,
   "id": "8a0f3bb3",
   "metadata": {},
   "outputs": [
    {
     "name": "stdout",
     "output_type": "stream",
     "text": [
      "0912-086-9471\n",
      "0919-555-0415\n",
      "0912-544-3986\n"
     ]
    }
   ],
   "source": [
    "for match in re.finditer(r'\\d{4}-\\d{3}-\\d{4}',text):\n",
    "    print(match.group())"
   ]
  },
  {
   "cell_type": "code",
   "execution_count": 78,
   "id": "7634974f",
   "metadata": {},
   "outputs": [
    {
     "name": "stdout",
     "output_type": "stream",
     "text": [
      "ziba phone number\n",
      "fateme phone number\n",
      "mohammad phone number\n"
     ]
    }
   ],
   "source": [
    "for match in re.finditer(r'\\w+\\sphone number',text):\n",
    "    print(match.group())"
   ]
  },
  {
   "cell_type": "code",
   "execution_count": 57,
   "id": "6a12edfe",
   "metadata": {},
   "outputs": [],
   "source": [
    "def find_name_phone(phrase):\n",
    "    names=[]\n",
    "    phones=[]\n",
    "    for name in re.finditer(r'\\w+\\sphone number',phrase):\n",
    "        names.append(name.group())\n",
    "        \n",
    "    for phone in re.finditer(r'\\d{4}-\\d{3}-\\d{4}',phrase):\n",
    "        phones.append(phone.group())\n",
    "    value=list(zip(names,phones))\n",
    "    for val in value:\n",
    "        print(val)\n",
    "            "
   ]
  },
  {
   "cell_type": "code",
   "execution_count": 58,
   "id": "67e13443",
   "metadata": {},
   "outputs": [
    {
     "name": "stdout",
     "output_type": "stream",
     "text": [
      "('ziba phone number', '0912-086-9471')\n",
      "('fateme phone number', '0919-555-0415')\n",
      "('mohammad phone number', '0912-544-3986')\n"
     ]
    }
   ],
   "source": [
    "name=[r'\\w+\\sphone number']\n",
    "phone=[r'\\d{4}-\\d{3}-\\d{4}']\n",
    "find_name_phone(text)"
   ]
  },
  {
   "cell_type": "code",
   "execution_count": 59,
   "id": "af5c5cd7",
   "metadata": {},
   "outputs": [
    {
     "name": "stdout",
     "output_type": "stream",
     "text": [
      "ziba phone number is 0912-086-9471\n",
      "fateme phone number is 0919-555-0415\n",
      "mohammad phone number is 0912-544-3986\n"
     ]
    }
   ],
   "source": [
    "for patern in re.finditer('\\w+\\sphone number\\D+\\d{4}-\\d{3}-\\d{4}',text):\n",
    "     print(patern.group())"
   ]
  },
  {
   "cell_type": "code",
   "execution_count": null,
   "id": "673d7671",
   "metadata": {},
   "outputs": [],
   "source": []
  }
 ],
 "metadata": {
  "kernelspec": {
   "display_name": "Python 3 (ipykernel)",
   "language": "python",
   "name": "python3"
  },
  "language_info": {
   "codemirror_mode": {
    "name": "ipython",
    "version": 3
   },
   "file_extension": ".py",
   "mimetype": "text/x-python",
   "name": "python",
   "nbconvert_exporter": "python",
   "pygments_lexer": "ipython3",
   "version": "3.11.5"
  }
 },
 "nbformat": 4,
 "nbformat_minor": 5
}
