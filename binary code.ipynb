{
 "cells": [
  {
   "cell_type": "code",
   "execution_count": 5,
   "id": "274aefb5",
   "metadata": {},
   "outputs": [],
   "source": [
    "with open(\"./TS.ts\", \"rb\") as file, open(\"./me.ts\", \"wb\") as me:\n",
    "    for _ in range(2000000):\n",
    "        buffer = file.read(188)\n",
    "        if (buffer[1] & 0x1F) == 0x00 and (buffer[2] == 0x38 or buffer[2] == 0x37 or buffer[2] == 0x00):\n",
    "            me.write(buffer)"
   ]
  }
 ],
 "metadata": {
  "kernelspec": {
   "display_name": "Python 3 (ipykernel)",
   "language": "python",
   "name": "python3"
  },
  "language_info": {
   "codemirror_mode": {
    "name": "ipython",
    "version": 3
   },
   "file_extension": ".py",
   "mimetype": "text/x-python",
   "name": "python",
   "nbconvert_exporter": "python",
   "pygments_lexer": "ipython3",
   "version": "3.11.5"
  }
 },
 "nbformat": 4,
 "nbformat_minor": 5
}
