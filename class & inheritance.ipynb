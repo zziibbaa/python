{
 "cells": [
  {
   "cell_type": "markdown",
   "id": "5d4375b6",
   "metadata": {},
   "source": [
    "## inheritance"
   ]
  },
  {
   "cell_type": "code",
   "execution_count": 6,
   "id": "1f540f1a",
   "metadata": {},
   "outputs": [
    {
     "name": "stdout",
     "output_type": "stream",
     "text": [
      "animal is alive...\n",
      "dog created\n"
     ]
    }
   ],
   "source": [
    "class Animal():\n",
    "    def __init__(self):\n",
    "        print('animal is alive...')\n",
    "        \n",
    "    def eat (self):\n",
    "        print('eating')\n",
    "        \n",
    "    def walk(self):\n",
    "        print('walking')\n",
    "        \n",
    "        \n",
    "\n",
    "        \n",
    "        \n",
    "class Dog(Animal):\n",
    "    def __init__(self):\n",
    "        Animal.__init__(self)\n",
    "        print('dog created')\n",
    "\n",
    "        \n",
    "        \n",
    "        \n",
    "\n",
    "class Lion(Animal):\n",
    "    def __init__(self):\n",
    "        super().__init__()\n",
    "        print('lion is an animal')\n",
    "        \n",
    "        \n",
    "Hoski = Dog()\n"
   ]
  },
  {
   "cell_type": "code",
   "execution_count": 2,
   "id": "aeaa03cb",
   "metadata": {},
   "outputs": [
    {
     "name": "stdout",
     "output_type": "stream",
     "text": [
      "eating\n"
     ]
    }
   ],
   "source": [
    "Hoski.eat()\n"
   ]
  },
  {
   "cell_type": "code",
   "execution_count": 3,
   "id": "3caf189c",
   "metadata": {},
   "outputs": [
    {
     "name": "stdout",
     "output_type": "stream",
     "text": [
      "walking\n"
     ]
    }
   ],
   "source": [
    "Hoski.walk()\n"
   ]
  },
  {
   "cell_type": "code",
   "execution_count": 4,
   "id": "e064aa85",
   "metadata": {},
   "outputs": [
    {
     "name": "stdout",
     "output_type": "stream",
     "text": [
      "animal is alive...\n",
      "lion is an animal\n"
     ]
    }
   ],
   "source": [
    "mofasa= Lion()"
   ]
  },
  {
   "cell_type": "markdown",
   "id": "9002b730",
   "metadata": {},
   "source": [
    "## polymorphism"
   ]
  },
  {
   "cell_type": "code",
   "execution_count": 7,
   "id": "74c8f24a",
   "metadata": {},
   "outputs": [
    {
     "name": "stdout",
     "output_type": "stream",
     "text": [
      "barre says Baaa!!!\n",
      "gusale says Maaaa!!!\n"
     ]
    }
   ],
   "source": [
    "class Sheep:\n",
    "    def __init__(self,name):\n",
    "        self.name=name\n",
    "        \n",
    "    def speak(self):\n",
    "        return self.name + ' says Baaa!!!'\n",
    "    \n",
    "\n",
    "    \n",
    "class Caw:\n",
    "    def __init__(self,name):\n",
    "        self.name=name\n",
    "        \n",
    "    def speak(self):\n",
    "        return self.name + ' says Maaaa!!!'\n",
    "    \n",
    "\n",
    "    \n",
    "barre=Sheep('barre')\n",
    "gusale=Caw('gusale')\n",
    "\n",
    "for pet in (barre , gusale):\n",
    "    print (pet.speak())"
   ]
  },
  {
   "cell_type": "markdown",
   "id": "55b229fe",
   "metadata": {},
   "source": [
    "## abstract class"
   ]
  },
  {
   "cell_type": "code",
   "execution_count": 8,
   "id": "84129b38",
   "metadata": {},
   "outputs": [
    {
     "name": "stdout",
     "output_type": "stream",
     "text": [
      "niko says Baaa!!!\n",
      "isis says Maaaa!!!\n"
     ]
    }
   ],
   "source": [
    "class Animal:\n",
    "    def __init__(self, name):\n",
    "        self.name=name\n",
    "        \n",
    "    def speak(self):\n",
    "        pass\n",
    "    \n",
    "\n",
    "    \n",
    "class Sheep(Animal):\n",
    "        \n",
    "    def speak(self):\n",
    "        return self.name + ' says Baaa!!!'\n",
    "    \n",
    "class Caw(Animal):\n",
    "        \n",
    "    def speak(self):\n",
    "        return self.name + ' says Maaaa!!!'\n",
    "    \n",
    "niko = Sheep('niko')\n",
    "isis = Caw('isis')\n",
    "for pet in (niko , isis):\n",
    "    print (pet.speak())"
   ]
  },
  {
   "cell_type": "markdown",
   "id": "9566679b",
   "metadata": {},
   "source": [
    "# special methods"
   ]
  },
  {
   "cell_type": "code",
   "execution_count": 2,
   "id": "233990cf",
   "metadata": {},
   "outputs": [
    {
     "name": "stdout",
     "output_type": "stream",
     "text": [
      "the Book is created...\n",
      "titel : hi farmande!, auther : unknown, pages : 63\n"
     ]
    },
    {
     "data": {
      "text/plain": [
       "63"
      ]
     },
     "execution_count": 2,
     "metadata": {},
     "output_type": "execute_result"
    }
   ],
   "source": [
    "class Book:\n",
    "    def __init__(self,name,auther,pages):\n",
    "        print('the Book is created...')\n",
    "        self.name = name\n",
    "        self.auther=auther\n",
    "        self.pages=pages\n",
    "        \n",
    "    def __str__(self):\n",
    "        return f'titel : {self.name}, auther : {self.auther}, pages : {self.pages}'\n",
    "    \n",
    "    def __len__(self):\n",
    "        return self.pages\n",
    "    \n",
    "    def __del__(self):\n",
    "        print('the book is distroyed')\n",
    "        \n",
    "book = Book('hi farmande!','unknown', 63)\n",
    "print(book)\n",
    "len (book)\n",
    "\n",
    "    "
   ]
  },
  {
   "cell_type": "code",
   "execution_count": 5,
   "id": "9e93b2d9",
   "metadata": {},
   "outputs": [
    {
     "data": {
      "text/plain": [
       "'<__main__.Book object at 0x000001E9C4DC7B90>'"
      ]
     },
     "execution_count": 5,
     "metadata": {},
     "output_type": "execute_result"
    }
   ],
   "source": [
    "repr(book)"
   ]
  },
  {
   "cell_type": "code",
   "execution_count": 11,
   "id": "47361e87",
   "metadata": {},
   "outputs": [
    {
     "data": {
      "text/plain": [
       "'titel : hi farmande!, auther : unknown, pages : 63'"
      ]
     },
     "execution_count": 11,
     "metadata": {},
     "output_type": "execute_result"
    }
   ],
   "source": [
    "book.__str__()"
   ]
  },
  {
   "cell_type": "code",
   "execution_count": null,
   "id": "02f2a2f1",
   "metadata": {},
   "outputs": [],
   "source": [
    "del book"
   ]
  },
  {
   "cell_type": "markdown",
   "id": "b01a6281",
   "metadata": {},
   "source": [
    "## public_method    ___   private_method    ___    protected_method"
   ]
  },
  {
   "cell_type": "code",
   "execution_count": 12,
   "id": "9ed12db1",
   "metadata": {},
   "outputs": [
    {
     "data": {
      "text/plain": [
       "'Account_owner : ziba Account_balance : 1700'"
      ]
     },
     "execution_count": 12,
     "metadata": {},
     "output_type": "execute_result"
    }
   ],
   "source": [
    "class Account:\n",
    "    def __init__(self,owner,balance=0):\n",
    "        self.owner = owner\n",
    "        self._balance = balance # private naming\n",
    "        \n",
    "    def __str__(self):\n",
    "        return f'Account_owner : {self.owner} Account_balance : {self._balance}'\n",
    "    \n",
    "    def get_balance(self):\n",
    "        return self._balance\n",
    "    \n",
    "    \n",
    "ziba_account = Account('ziba', 1700)\n",
    "ziba_account.__str__()\n",
    "\n",
    "    "
   ]
  },
  {
   "cell_type": "code",
   "execution_count": 13,
   "id": "88c7fe2e",
   "metadata": {},
   "outputs": [
    {
     "data": {
      "text/plain": [
       "1700"
      ]
     },
     "execution_count": 13,
     "metadata": {},
     "output_type": "execute_result"
    }
   ],
   "source": [
    "ziba_account._balance"
   ]
  },
  {
   "cell_type": "code",
   "execution_count": 14,
   "id": "781d6f9b",
   "metadata": {},
   "outputs": [
    {
     "data": {
      "text/plain": [
       "1700"
      ]
     },
     "execution_count": 14,
     "metadata": {},
     "output_type": "execute_result"
    }
   ],
   "source": [
    "ziba_account.get_balance()"
   ]
  },
  {
   "cell_type": "code",
   "execution_count": 20,
   "id": "ff14bfd7",
   "metadata": {},
   "outputs": [
    {
     "data": {
      "text/plain": [
       "{'_Sampel__x': 1, 'y': 2}"
      ]
     },
     "execution_count": 20,
     "metadata": {},
     "output_type": "execute_result"
    }
   ],
   "source": [
    "class Sampel:\n",
    "    def __init__(self):\n",
    "        self.__x = 1 #protected naming\n",
    "        self.y = 2\n",
    "        \n",
    "    def __foo(self):\n",
    "        print('this is a private method.')\n",
    "        \n",
    "        \n",
    "smpl = Sampel()\n",
    "vars(smpl)"
   ]
  },
  {
   "cell_type": "code",
   "execution_count": 21,
   "id": "e9d4ec80",
   "metadata": {},
   "outputs": [
    {
     "data": {
      "text/plain": [
       "2"
      ]
     },
     "execution_count": 21,
     "metadata": {},
     "output_type": "execute_result"
    }
   ],
   "source": [
    "smpl.y"
   ]
  },
  {
   "cell_type": "code",
   "execution_count": 24,
   "id": "feefb9c5",
   "metadata": {},
   "outputs": [
    {
     "data": {
      "text/plain": [
       "mappingproxy({'__module__': '__main__',\n",
       "              '__init__': <function __main__.Sampel.__init__(self)>,\n",
       "              '_Sampel__foo': <function __main__.Sampel.__foo(self)>,\n",
       "              '__dict__': <attribute '__dict__' of 'Sampel' objects>,\n",
       "              '__weakref__': <attribute '__weakref__' of 'Sampel' objects>,\n",
       "              '__doc__': None})"
      ]
     },
     "execution_count": 24,
     "metadata": {},
     "output_type": "execute_result"
    }
   ],
   "source": [
    "Sampel.__dict__"
   ]
  },
  {
   "cell_type": "code",
   "execution_count": 23,
   "id": "a38b2adc",
   "metadata": {},
   "outputs": [
    {
     "data": {
      "text/plain": [
       "1"
      ]
     },
     "execution_count": 23,
     "metadata": {},
     "output_type": "execute_result"
    }
   ],
   "source": [
    "smpl._Sampel__x"
   ]
  },
  {
   "cell_type": "code",
   "execution_count": 25,
   "id": "f4846f1a",
   "metadata": {},
   "outputs": [
    {
     "name": "stdout",
     "output_type": "stream",
     "text": [
      "this is a private method.\n"
     ]
    }
   ],
   "source": [
    "smpl._Sampel__foo()"
   ]
  },
  {
   "cell_type": "markdown",
   "id": "16894d42",
   "metadata": {},
   "source": [
    "# class attributes vs instance attributes"
   ]
  },
  {
   "cell_type": "code",
   "execution_count": 17,
   "id": "fd2ba303",
   "metadata": {},
   "outputs": [],
   "source": [
    "class BabyCounter:\n",
    "    count = 0  \"\"\"class attribute\"\"\"\n",
    "    def __init__(self,name):\n",
    "        type(self).count+=1\n",
    "        self.name=name \"\"\"instance attribute\"\"\"\n",
    "    \n",
    "    \n",
    "    \n",
    "    def intruduction(self):\n",
    "        return f'{self.name} borned'\n",
    "        \n",
    "        \n",
    "        \n",
    "\n",
    "hasan = BabyCounter('hasan')\n",
    "hoseyn = BabyCounter('hoseyn')        \n",
    "hamed = BabyCounter('hamed')"
   ]
  },
  {
   "cell_type": "code",
   "execution_count": 18,
   "id": "dd0ee5ba",
   "metadata": {},
   "outputs": [
    {
     "data": {
      "text/plain": [
       "'hasan borned'"
      ]
     },
     "execution_count": 18,
     "metadata": {},
     "output_type": "execute_result"
    }
   ],
   "source": [
    "hasan.intruduction()"
   ]
  },
  {
   "cell_type": "code",
   "execution_count": 20,
   "id": "6b67c1e4",
   "metadata": {},
   "outputs": [
    {
     "data": {
      "text/plain": [
       "3"
      ]
     },
     "execution_count": 20,
     "metadata": {},
     "output_type": "execute_result"
    }
   ],
   "source": [
    "hasan.count"
   ]
  },
  {
   "cell_type": "code",
   "execution_count": 22,
   "id": "411b8f33",
   "metadata": {},
   "outputs": [
    {
     "data": {
      "text/plain": [
       "3"
      ]
     },
     "execution_count": 22,
     "metadata": {},
     "output_type": "execute_result"
    }
   ],
   "source": [
    "BabyCounter.count"
   ]
  },
  {
   "cell_type": "code",
   "execution_count": 27,
   "id": "c1dfe2db",
   "metadata": {},
   "outputs": [
    {
     "data": {
      "text/plain": [
       "{'name': 'hoseyn'}"
      ]
     },
     "execution_count": 27,
     "metadata": {},
     "output_type": "execute_result"
    }
   ],
   "source": [
    "vars(hoseyn)"
   ]
  },
  {
   "cell_type": "markdown",
   "id": "77e23679",
   "metadata": {},
   "source": [
    "##   .__dict__  vs  Vars"
   ]
  },
  {
   "cell_type": "code",
   "execution_count": 28,
   "id": "239fdb8e",
   "metadata": {},
   "outputs": [
    {
     "data": {
      "text/plain": [
       "{'name': 'hasan'}"
      ]
     },
     "execution_count": 28,
     "metadata": {},
     "output_type": "execute_result"
    }
   ],
   "source": [
    "hasan.__dict__"
   ]
  },
  {
   "cell_type": "code",
   "execution_count": 29,
   "id": "c02031bb",
   "metadata": {},
   "outputs": [
    {
     "data": {
      "text/plain": [
       "mappingproxy({'__module__': '__main__',\n",
       "              'count': 3,\n",
       "              '__init__': <function __main__.BabyCounter.__init__(self, name)>,\n",
       "              'intruduction': <function __main__.BabyCounter.intruduction(self)>,\n",
       "              '__dict__': <attribute '__dict__' of 'BabyCounter' objects>,\n",
       "              '__weakref__': <attribute '__weakref__' of 'BabyCounter' objects>,\n",
       "              '__doc__': None})"
      ]
     },
     "execution_count": 29,
     "metadata": {},
     "output_type": "execute_result"
    }
   ],
   "source": [
    "BabyCounter.__dict__"
   ]
  },
  {
   "cell_type": "code",
   "execution_count": 30,
   "id": "80ca74af",
   "metadata": {},
   "outputs": [
    {
     "data": {
      "text/plain": [
       "mappingproxy({'__module__': '__main__',\n",
       "              'count': 3,\n",
       "              '__init__': <function __main__.BabyCounter.__init__(self, name)>,\n",
       "              'intruduction': <function __main__.BabyCounter.intruduction(self)>,\n",
       "              '__dict__': <attribute '__dict__' of 'BabyCounter' objects>,\n",
       "              '__weakref__': <attribute '__weakref__' of 'BabyCounter' objects>,\n",
       "              '__doc__': None})"
      ]
     },
     "execution_count": 30,
     "metadata": {},
     "output_type": "execute_result"
    }
   ],
   "source": [
    "vars(BabyCounter)"
   ]
  },
  {
   "cell_type": "code",
   "execution_count": 27,
   "id": "5390629b",
   "metadata": {},
   "outputs": [
    {
     "data": {
      "text/plain": [
       "mappingproxy({'__new__': <function tuple.__new__(*args, **kwargs)>,\n",
       "              '__repr__': <slot wrapper '__repr__' of 'tuple' objects>,\n",
       "              '__hash__': <slot wrapper '__hash__' of 'tuple' objects>,\n",
       "              '__getattribute__': <slot wrapper '__getattribute__' of 'tuple' objects>,\n",
       "              '__lt__': <slot wrapper '__lt__' of 'tuple' objects>,\n",
       "              '__le__': <slot wrapper '__le__' of 'tuple' objects>,\n",
       "              '__eq__': <slot wrapper '__eq__' of 'tuple' objects>,\n",
       "              '__ne__': <slot wrapper '__ne__' of 'tuple' objects>,\n",
       "              '__gt__': <slot wrapper '__gt__' of 'tuple' objects>,\n",
       "              '__ge__': <slot wrapper '__ge__' of 'tuple' objects>,\n",
       "              '__iter__': <slot wrapper '__iter__' of 'tuple' objects>,\n",
       "              '__len__': <slot wrapper '__len__' of 'tuple' objects>,\n",
       "              '__getitem__': <slot wrapper '__getitem__' of 'tuple' objects>,\n",
       "              '__add__': <slot wrapper '__add__' of 'tuple' objects>,\n",
       "              '__mul__': <slot wrapper '__mul__' of 'tuple' objects>,\n",
       "              '__rmul__': <slot wrapper '__rmul__' of 'tuple' objects>,\n",
       "              '__contains__': <slot wrapper '__contains__' of 'tuple' objects>,\n",
       "              '__getnewargs__': <method '__getnewargs__' of 'tuple' objects>,\n",
       "              'index': <method 'index' of 'tuple' objects>,\n",
       "              'count': <method 'count' of 'tuple' objects>,\n",
       "              '__class_getitem__': <method '__class_getitem__' of 'tuple' objects>,\n",
       "              '__doc__': \"Built-in immutable sequence.\\n\\nIf no argument is given, the constructor returns an empty tuple.\\nIf iterable is specified the tuple is initialized from iterable's items.\\n\\nIf the argument is a tuple, the return value is the same object.\"})"
      ]
     },
     "execution_count": 27,
     "metadata": {},
     "output_type": "execute_result"
    }
   ],
   "source": [
    "tuple.__dict__"
   ]
  },
  {
   "cell_type": "markdown",
   "id": "f2a4de77",
   "metadata": {},
   "source": [
    "###  setattr تابع "
   ]
  },
  {
   "cell_type": "code",
   "execution_count": 34,
   "id": "33c8f21f",
   "metadata": {},
   "outputs": [],
   "source": [
    "class Record:\n",
    "    pass"
   ]
  },
  {
   "cell_type": "code",
   "execution_count": 35,
   "id": "f046d25d",
   "metadata": {},
   "outputs": [],
   "source": [
    "ziba ={'name':'ziba',\n",
    "       'family':'hatamian',\n",
    "       'gender':'female',\n",
    "       'age': 34}"
   ]
  },
  {
   "cell_type": "code",
   "execution_count": 36,
   "id": "cd1f4714",
   "metadata": {},
   "outputs": [],
   "source": [
    "ziba_record=Record\n",
    "for feild , value in ziba.items():\n",
    "    setattr(ziba_record,feild,value)"
   ]
  },
  {
   "cell_type": "code",
   "execution_count": 37,
   "id": "20669cdb",
   "metadata": {},
   "outputs": [
    {
     "data": {
      "text/plain": [
       "mappingproxy({'__module__': '__main__',\n",
       "              '__dict__': <attribute '__dict__' of 'Record' objects>,\n",
       "              '__weakref__': <attribute '__weakref__' of 'Record' objects>,\n",
       "              '__doc__': None,\n",
       "              'name': 'ziba',\n",
       "              'family': 'hatamian',\n",
       "              'gender': 'female',\n",
       "              'age': 34})"
      ]
     },
     "execution_count": 37,
     "metadata": {},
     "output_type": "execute_result"
    }
   ],
   "source": [
    "ziba_record.__dict__"
   ]
  },
  {
   "cell_type": "code",
   "execution_count": 38,
   "id": "2e30eb55",
   "metadata": {},
   "outputs": [
    {
     "data": {
      "text/plain": [
       "mappingproxy({'__module__': '__main__',\n",
       "              '__dict__': <attribute '__dict__' of 'Record' objects>,\n",
       "              '__weakref__': <attribute '__weakref__' of 'Record' objects>,\n",
       "              '__doc__': None,\n",
       "              'name': 'ziba',\n",
       "              'family': 'hatamian',\n",
       "              'gender': 'female',\n",
       "              'age': 34})"
      ]
     },
     "execution_count": 38,
     "metadata": {},
     "output_type": "execute_result"
    }
   ],
   "source": [
    "vars(ziba_record)"
   ]
  },
  {
   "cell_type": "code",
   "execution_count": 39,
   "id": "b2773d70",
   "metadata": {},
   "outputs": [],
   "source": [
    "class User:\n",
    "    pass"
   ]
  },
  {
   "cell_type": "code",
   "execution_count": 49,
   "id": "bdb5c94a",
   "metadata": {},
   "outputs": [],
   "source": [
    "def __init__(self,name,job):\n",
    "    self.name = name\n",
    "    self.job = job\n",
    "    print (f'name:{self.name} job:{self.job}')"
   ]
  },
  {
   "cell_type": "code",
   "execution_count": 50,
   "id": "e96ef48a",
   "metadata": {},
   "outputs": [],
   "source": [
    "User.__init__ = __init__"
   ]
  },
  {
   "cell_type": "code",
   "execution_count": 51,
   "id": "60fe8546",
   "metadata": {},
   "outputs": [
    {
     "data": {
      "text/plain": [
       "mappingproxy({'__module__': '__main__',\n",
       "              '__dict__': <attribute '__dict__' of 'User' objects>,\n",
       "              '__weakref__': <attribute '__weakref__' of 'User' objects>,\n",
       "              '__doc__': None,\n",
       "              '__init__': <function __main__.__init__(self, name, job)>})"
      ]
     },
     "execution_count": 51,
     "metadata": {},
     "output_type": "execute_result"
    }
   ],
   "source": [
    "User.__dict__"
   ]
  },
  {
   "cell_type": "code",
   "execution_count": 52,
   "id": "9e1ca734",
   "metadata": {},
   "outputs": [
    {
     "name": "stdout",
     "output_type": "stream",
     "text": [
      "name:linda job:student\n"
     ]
    }
   ],
   "source": [
    "linda =User('linda', 'student')"
   ]
  },
  {
   "cell_type": "markdown",
   "id": "3379afbf",
   "metadata": {},
   "source": [
    "# classMethod and staticMethod"
   ]
  },
  {
   "cell_type": "code",
   "execution_count": 38,
   "id": "d72b8f8b",
   "metadata": {},
   "outputs": [],
   "source": [
    "class ThreeDPoint:\n",
    "    def __init__(self,x,y,z):\n",
    "        self.x = x\n",
    "        self.y = y\n",
    "        self.z = z\n",
    "        print(f'x:{self.x} y:{self.y} z:{self.z}...')\n",
    "   \n",
    "\n",
    "    def __iter__(self):\n",
    "        yield from (self.x , self.y , self.z)\n",
    "\n",
    "    @classmethod\n",
    "    def from_sequence(cls,sequence):\n",
    "        return cls(*sequence)\n",
    "    \n",
    "    \n",
    "    @staticmethod\n",
    "    def show_intro_message(name):\n",
    "        print(f'hey {name} ! this is your TreeDPoint...')\n",
    "        \n",
    "        \n",
    "    def repr (self):\n",
    "        return f'{type(self).__name__}({self.x},{self.y},{self.z})'"
   ]
  },
  {
   "cell_type": "code",
   "execution_count": 42,
   "id": "694603bb",
   "metadata": {},
   "outputs": [
    {
     "name": "stdout",
     "output_type": "stream",
     "text": [
      "x:3 y:17 z:8...\n"
     ]
    }
   ],
   "source": [
    "point_1=ThreeDPoint(3,17,8)"
   ]
  },
  {
   "cell_type": "code",
   "execution_count": 43,
   "id": "6c4dcddf",
   "metadata": {},
   "outputs": [
    {
     "name": "stdout",
     "output_type": "stream",
     "text": [
      "x:2 y:54 z:3...\n"
     ]
    },
    {
     "data": {
      "text/plain": [
       "<__main__.ThreeDPoint at 0x19ab44123d0>"
      ]
     },
     "execution_count": 43,
     "metadata": {},
     "output_type": "execute_result"
    }
   ],
   "source": [
    "point_1.from_sequence((2,54,3))"
   ]
  },
  {
   "cell_type": "code",
   "execution_count": 44,
   "id": "6f1de75e",
   "metadata": {},
   "outputs": [
    {
     "name": "stdout",
     "output_type": "stream",
     "text": [
      "hey pythonista ! this is your TreeDPoint...\n"
     ]
    }
   ],
   "source": [
    "point_1.show_intro_message('pythonista')"
   ]
  },
  {
   "cell_type": "markdown",
   "id": "42953eab",
   "metadata": {},
   "source": [
    "# getter / setter"
   ]
  },
  {
   "cell_type": "code",
   "execution_count": 14,
   "id": "df592467",
   "metadata": {},
   "outputs": [],
   "source": [
    "class Person:\n",
    "    def __init__(self,name):\n",
    "        self.name=name\n",
    "    \n",
    "        \n",
    "    @property\n",
    "    def name(self):\n",
    "        return self._name\n",
    "    \n",
    "    \n",
    "    @name.setter\n",
    "    def name(self,value):\n",
    "        self._name = value.upper()"
   ]
  },
  {
   "cell_type": "code",
   "execution_count": 15,
   "id": "4055b1bd",
   "metadata": {},
   "outputs": [],
   "source": [
    "naame = Person('ziba')"
   ]
  },
  {
   "cell_type": "code",
   "execution_count": 16,
   "id": "b55b140f",
   "metadata": {},
   "outputs": [
    {
     "data": {
      "text/plain": [
       "'ZIBA'"
      ]
     },
     "execution_count": 16,
     "metadata": {},
     "output_type": "execute_result"
    }
   ],
   "source": [
    "naame.name"
   ]
  },
  {
   "cell_type": "code",
   "execution_count": 17,
   "id": "d315494f",
   "metadata": {},
   "outputs": [
    {
     "data": {
      "text/plain": [
       "{'_name': 'ZIBA'}"
      ]
     },
     "execution_count": 17,
     "metadata": {},
     "output_type": "execute_result"
    }
   ],
   "source": [
    "vars(naame)"
   ]
  },
  {
   "cell_type": "markdown",
   "id": "c1e57273",
   "metadata": {},
   "source": [
    "## dataClasses & Enum"
   ]
  },
  {
   "cell_type": "code",
   "execution_count": 18,
   "id": "2ca4be37",
   "metadata": {},
   "outputs": [],
   "source": [
    "from dataclasses import dataclass\n",
    "\n",
    "@dataclass\n",
    "class ThreeDPoint:\n",
    "    x : int | float\n",
    "    y : int | float\n",
    "    z : int | float\n",
    "    \n",
    "    @classmethod\n",
    "    def from_sequence(cls,sequence):\n",
    "        return cls(*sequence)\n",
    "    \n",
    "    @staticmethod\n",
    "    def show_intro_message(name):\n",
    "        print (f'hey {name}! this is your 3D Point...')"
   ]
  },
  {
   "cell_type": "code",
   "execution_count": 23,
   "id": "811b3a96",
   "metadata": {},
   "outputs": [],
   "source": [
    "point_1=ThreeDPoint(4,41,87)"
   ]
  },
  {
   "cell_type": "code",
   "execution_count": 24,
   "id": "03f095cd",
   "metadata": {},
   "outputs": [],
   "source": [
    "point_2 =ThreeDPoint(3,8, 74) "
   ]
  },
  {
   "cell_type": "code",
   "execution_count": 25,
   "id": "76369f8a",
   "metadata": {},
   "outputs": [
    {
     "data": {
      "text/plain": [
       "False"
      ]
     },
     "execution_count": 25,
     "metadata": {},
     "output_type": "execute_result"
    }
   ],
   "source": [
    "point_1 == point_2"
   ]
  },
  {
   "cell_type": "code",
   "execution_count": 26,
   "id": "ce526295",
   "metadata": {},
   "outputs": [],
   "source": [
    "point_3 = ThreeDPoint(4.0,41,87)"
   ]
  },
  {
   "cell_type": "code",
   "execution_count": 27,
   "id": "ea819875",
   "metadata": {},
   "outputs": [
    {
     "data": {
      "text/plain": [
       "True"
      ]
     },
     "execution_count": 27,
     "metadata": {},
     "output_type": "execute_result"
    }
   ],
   "source": [
    "point_1==point_3"
   ]
  },
  {
   "cell_type": "code",
   "execution_count": 28,
   "id": "00b5c35e",
   "metadata": {},
   "outputs": [
    {
     "data": {
      "text/plain": [
       "(4, 41, 87)"
      ]
     },
     "execution_count": 28,
     "metadata": {},
     "output_type": "execute_result"
    }
   ],
   "source": [
    "from dataclasses import astuple\n",
    "\n",
    "astuple(point_1)"
   ]
  },
  {
   "cell_type": "markdown",
   "id": "c12c8dfa",
   "metadata": {},
   "source": [
    "## enum"
   ]
  },
  {
   "cell_type": "code",
   "execution_count": 8,
   "id": "f9874242",
   "metadata": {},
   "outputs": [],
   "source": [
    "from enum import Enum\n",
    "\n",
    "class WeekDay(Enum):\n",
    "    MONDAY = 1 # classAttribute\n",
    "    TUESDAY = 2\n",
    "    WENSDAY = 3\n",
    "    THURSDAY = 4\n",
    "    FRIDAY = 5\n",
    "    SATURDAY = 6\n",
    "    SUNDAY = 7\n",
    "    \n",
    "    @classmethod\n",
    "    def favorite_day(cls):\n",
    "        return cls.FRIDAY\n",
    "    \n",
    "    def __str__(self):\n",
    "        return f'current day: {self.name}'"
   ]
  },
  {
   "cell_type": "code",
   "execution_count": 9,
   "id": "5684dfd4",
   "metadata": {},
   "outputs": [
    {
     "data": {
      "text/plain": [
       "'MONDAY'"
      ]
     },
     "execution_count": 9,
     "metadata": {},
     "output_type": "execute_result"
    }
   ],
   "source": [
    "WeekDay.MONDAY.name"
   ]
  },
  {
   "cell_type": "code",
   "execution_count": 10,
   "id": "574676c8",
   "metadata": {},
   "outputs": [
    {
     "data": {
      "text/plain": [
       "1"
      ]
     },
     "execution_count": 10,
     "metadata": {},
     "output_type": "execute_result"
    }
   ],
   "source": [
    "WeekDay.MONDAY.value"
   ]
  },
  {
   "cell_type": "code",
   "execution_count": 11,
   "id": "b7f9c62d",
   "metadata": {},
   "outputs": [
    {
     "name": "stdout",
     "output_type": "stream",
     "text": [
      "MONDAY ---> 1\n",
      "TUESDAY ---> 2\n",
      "WENSDAY ---> 3\n",
      "THURSDAY ---> 4\n",
      "FRIDAY ---> 5\n",
      "SATURDAY ---> 6\n",
      "SUNDAY ---> 7\n"
     ]
    }
   ],
   "source": [
    "for day in WeekDay:\n",
    "    print(day.name , '--->' ,day.value)"
   ]
  },
  {
   "cell_type": "code",
   "execution_count": 12,
   "id": "a4d8909b",
   "metadata": {},
   "outputs": [
    {
     "data": {
      "text/plain": [
       "<WeekDay.FRIDAY: 5>"
      ]
     },
     "execution_count": 12,
     "metadata": {},
     "output_type": "execute_result"
    }
   ],
   "source": [
    "WeekDay.favorite_day()"
   ]
  },
  {
   "cell_type": "code",
   "execution_count": 13,
   "id": "fe9a116e",
   "metadata": {},
   "outputs": [
    {
     "name": "stdout",
     "output_type": "stream",
     "text": [
      "current day: FRIDAY\n"
     ]
    }
   ],
   "source": [
    "print(WeekDay.FRIDAY)"
   ]
  },
  {
   "cell_type": "markdown",
   "id": "9941a32e",
   "metadata": {},
   "source": [
    "برای بررسی سلسله مراتب وراثت در وراثت چندگانه از دستور (.__mro__) استفاده می شود"
   ]
  },
  {
   "cell_type": "markdown",
   "id": "0e95f619",
   "metadata": {},
   "source": [
    "# extend vs override"
   ]
  },
  {
   "cell_type": "code",
   "execution_count": 14,
   "id": "2a9cc8af",
   "metadata": {},
   "outputs": [],
   "source": [
    "class AirCraft:\n",
    "    def __init__(self,thrust,lift,max_speed):\n",
    "        self.thrust=thrust\n",
    "        self.lift=lift\n",
    "        self.max_speed=max_speed\n",
    "        \n",
    "    def show_technical_specs(self):\n",
    "        print(f'thrust : {self.thrust} KW')\n",
    "        print(f'lift : {self.lift} Kg')\n",
    "        print(f'max speed : {self.max_speed} Km/h')"
   ]
  },
  {
   "cell_type": "code",
   "execution_count": 15,
   "id": "1f1ea490",
   "metadata": {},
   "outputs": [],
   "source": [
    "class Helicopter(AirCraft):\n",
    "    def __init__(self,thrust,lift,max_speed,num_rotors):\n",
    "        super().__init__(thrust,lift,max_speed)\n",
    "        self.num_rotors=num_rotors\n",
    "        \n",
    "    def show_technical_specs(self):\n",
    "        super().show_technical_specs()\n",
    "        print(f'number of rotors:{self.num_rotors}')"
   ]
  },
  {
   "cell_type": "markdown",
   "id": "b08cf3d0",
   "metadata": {},
   "source": [
    "## mixin class"
   ]
  },
  {
   "cell_type": "code",
   "execution_count": 1,
   "id": "4c7579de",
   "metadata": {},
   "outputs": [],
   "source": [
    "import json\n",
    "import pickle\n",
    "\n",
    "class Person:\n",
    "    def __init__(self,name,age):\n",
    "        self.name=name\n",
    "        self.age=age\n",
    "        \n",
    "        \n",
    "class SerializerMixin:\n",
    "    def to_json(self):\n",
    "        return json.dumps(self.__dict__)\n",
    "    \n",
    "    def to_pickle(self):\n",
    "        return pickle.dumps(self.__dict__)\n",
    "    \n",
    "    \n",
    "    \n",
    "class Employee(SerializerMixin,Person):\n",
    "    def __init__(self,name,age,salary):\n",
    "        super().__init__(name,age)\n",
    "        self.salary = salary"
   ]
  },
  {
   "cell_type": "code",
   "execution_count": 3,
   "id": "fbb5f639",
   "metadata": {},
   "outputs": [
    {
     "data": {
      "text/plain": [
       "'{\"name\": \"john Doe\", \"age\": 35, \"salary\": 6000}'"
      ]
     },
     "execution_count": 3,
     "metadata": {},
     "output_type": "execute_result"
    }
   ],
   "source": [
    "john = Employee('john Doe',35,6000)\n",
    "john.to_json()"
   ]
  },
  {
   "cell_type": "code",
   "execution_count": 5,
   "id": "8cd11b98",
   "metadata": {},
   "outputs": [
    {
     "data": {
      "text/plain": [
       "b'\\x80\\x04\\x95+\\x00\\x00\\x00\\x00\\x00\\x00\\x00}\\x94(\\x8c\\x04name\\x94\\x8c\\x08john Doe\\x94\\x8c\\x03age\\x94K#\\x8c\\x06salary\\x94Mp\\x17u.'"
      ]
     },
     "execution_count": 5,
     "metadata": {},
     "output_type": "execute_result"
    }
   ],
   "source": [
    "john.to_pickle()"
   ]
  },
  {
   "cell_type": "markdown",
   "id": "dbae61b6",
   "metadata": {},
   "source": [
    "# composition"
   ]
  },
  {
   "cell_type": "code",
   "execution_count": 1,
   "id": "2e91f2db",
   "metadata": {},
   "outputs": [],
   "source": [
    "class Body:\n",
    "    def __init__(self):\n",
    "        self.rotation = 0\n",
    "        \n",
    "        \n",
    "    def rotate_left(self,degrees=10):\n",
    "        self.rotation -= degrees\n",
    "        print(f'Rotating body {degrees} degrees to the left')\n",
    "        \n",
    "    def rotate_right(self,degrees=10):\n",
    "        self.rotation += degrees\n",
    "        print(f'Rotating body {degrees} degrees to the right')\n",
    "        \n",
    "        \n",
    "        \n",
    "\n",
    "        \n",
    "class Arm:\n",
    "    def __init__(self):\n",
    "        self.position = 0\n",
    "        \n",
    "        \n",
    "    def move_up(self,distance=1):\n",
    "        self.position += distance\n",
    "        print(f'moving arm {distance} cm up')\n",
    "        \n",
    "    def move_down(self,distance=1):\n",
    "        self.position -= distance\n",
    "        print(f'moving arm {distance} cm down')\n",
    "        \n",
    "        \n",
    "        \n",
    "        \n",
    "        \n",
    "class IndustrialRobot:\n",
    "    def __init__(self):\n",
    "        self.body=Body()\n",
    "        self.arm = Arm()\n",
    "        \n",
    "    \n",
    "    def rotate_body_left(self,degrees=10):\n",
    "        self.body.rotate_left(degrees)\n",
    "        \n",
    "    def rotate_body_right(self,degrees=10):\n",
    "        self.body.rotate_right(degrees)\n",
    "        \n",
    "        \n",
    "    \n",
    "    def move_arm_up(self,distance=1):\n",
    "        self.arm.move_up(distance)\n",
    "        \n",
    "    def move_arm_down(self,distance=1):\n",
    "        self.arm.move_down(distance)\n",
    "        "
   ]
  },
  {
   "cell_type": "code",
   "execution_count": 11,
   "id": "8ef83f7f",
   "metadata": {},
   "outputs": [],
   "source": [
    "robot_1=IndustrialRobot()"
   ]
  },
  {
   "cell_type": "code",
   "execution_count": 12,
   "id": "519e0c0d",
   "metadata": {},
   "outputs": [
    {
     "data": {
      "text/plain": [
       "<__main__.IndustrialRobot at 0x22f7a70fe10>"
      ]
     },
     "execution_count": 12,
     "metadata": {},
     "output_type": "execute_result"
    }
   ],
   "source": [
    "robot_1"
   ]
  },
  {
   "cell_type": "code",
   "execution_count": 13,
   "id": "c4cc0325",
   "metadata": {},
   "outputs": [
    {
     "name": "stdout",
     "output_type": "stream",
     "text": [
      "moving arm 12 cm up\n"
     ]
    }
   ],
   "source": [
    "robot_1.move_arm_up(12)"
   ]
  },
  {
   "cell_type": "code",
   "execution_count": 14,
   "id": "31f6a854",
   "metadata": {},
   "outputs": [
    {
     "name": "stdout",
     "output_type": "stream",
     "text": [
      "moving arm 10 cm down\n"
     ]
    }
   ],
   "source": [
    "robot_1.move_arm_down(10)"
   ]
  },
  {
   "cell_type": "code",
   "execution_count": 18,
   "id": "df4f557a",
   "metadata": {},
   "outputs": [
    {
     "data": {
      "text/plain": [
       "2"
      ]
     },
     "execution_count": 18,
     "metadata": {},
     "output_type": "execute_result"
    }
   ],
   "source": [
    "robot_1.arm.position"
   ]
  },
  {
   "cell_type": "code",
   "execution_count": 19,
   "id": "4ab01111",
   "metadata": {},
   "outputs": [
    {
     "data": {
      "text/plain": [
       "{'body': <__main__.Body at 0x22f7a7ba010>,\n",
       " 'arm': <__main__.Arm at 0x22f7a7b8f10>}"
      ]
     },
     "execution_count": 19,
     "metadata": {},
     "output_type": "execute_result"
    }
   ],
   "source": [
    "robot_1.__dict__"
   ]
  },
  {
   "cell_type": "code",
   "execution_count": 22,
   "id": "3f4b2848",
   "metadata": {},
   "outputs": [
    {
     "name": "stdout",
     "output_type": "stream",
     "text": [
      "Rotating body 147 degrees to the left\n"
     ]
    }
   ],
   "source": [
    "robot_1.rotate_body_left(147)"
   ]
  },
  {
   "cell_type": "code",
   "execution_count": 23,
   "id": "7d0a7a10",
   "metadata": {},
   "outputs": [
    {
     "name": "stdout",
     "output_type": "stream",
     "text": [
      "Rotating body 14 degrees to the right\n"
     ]
    }
   ],
   "source": [
    "robot_1.rotate_body_right(14)"
   ]
  },
  {
   "cell_type": "code",
   "execution_count": 25,
   "id": "a7b1fce7",
   "metadata": {},
   "outputs": [
    {
     "data": {
      "text/plain": [
       "-133"
      ]
     },
     "execution_count": 25,
     "metadata": {},
     "output_type": "execute_result"
    }
   ],
   "source": [
    "robot_1.body.rotation"
   ]
  },
  {
   "cell_type": "code",
   "execution_count": 2,
   "id": "cdfe5209",
   "metadata": {},
   "outputs": [],
   "source": [
    "from myModules.circle import circle"
   ]
  },
  {
   "cell_type": "code",
   "execution_count": 3,
   "id": "0fd05b0e",
   "metadata": {},
   "outputs": [
    {
     "name": "stdout",
     "output_type": "stream",
     "text": [
      "50.24\n"
     ]
    }
   ],
   "source": [
    "circle(4)"
   ]
  },
  {
   "cell_type": "code",
   "execution_count": null,
   "id": "9e9f57ed",
   "metadata": {},
   "outputs": [],
   "source": []
  }
 ],
 "metadata": {
  "kernelspec": {
   "display_name": "Python 3 (ipykernel)",
   "language": "python",
   "name": "python3"
  },
  "language_info": {
   "codemirror_mode": {
    "name": "ipython",
    "version": 3
   },
   "file_extension": ".py",
   "mimetype": "text/x-python",
   "name": "python",
   "nbconvert_exporter": "python",
   "pygments_lexer": "ipython3",
   "version": "3.12.4"
  }
 },
 "nbformat": 4,
 "nbformat_minor": 5
}
