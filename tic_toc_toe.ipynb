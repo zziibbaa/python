{
 "cells": [
  {
   "cell_type": "code",
   "execution_count": null,
   "id": "bac06c8c",
   "metadata": {},
   "outputs": [],
   "source": [
    "from IPython.display import clear_output\n",
    "\n",
    "empty_board = [0,' ',' ',' ',' ',' ',' ',' ',' ',' ']\n",
    "\n",
    "def display_board(board):\n",
    "    clear_output()\n",
    "    print('   |   |   ')\n",
    "    print(f' {board[7]} | {board[8]} | {board[9]} ')\n",
    "    print('   |   |   ')\n",
    "    print('-----------')\n",
    "    print('   |   |   ')\n",
    "    print(f' {board[4]} | {board[5]} | {board[6]} ')\n",
    "    print('   |   |   ')\n",
    "    print('-----------')\n",
    "    print('   |   |   ')\n",
    "    print(f' {board[1]} | {board[2]} | {board[3]}')\n",
    "    print('   |   |   ')\n",
    "    \n",
    "display_board(empty_board)\n",
    "    "
   ]
  },
  {
   "cell_type": "code",
   "execution_count": 2,
   "id": "88a96762",
   "metadata": {},
   "outputs": [
    {
     "name": "stdout",
     "output_type": "stream",
     "text": [
      "player_1 : do you want to be x or o ?o\n"
     ]
    },
    {
     "data": {
      "text/plain": [
       "('o', 'x')"
      ]
     },
     "execution_count": 2,
     "metadata": {},
     "output_type": "execute_result"
    }
   ],
   "source": [
    "def player_input():\n",
    "    marker = 'wrong'\n",
    "    \n",
    "    while not (marker=='x' or marker == 'o'):\n",
    "        clear_output()\n",
    "        marker = input('player_1 : do you want to be x or o ?')\n",
    "    if marker == 'x':\n",
    "        return ('x','o')\n",
    "    else:\n",
    "        return ('o', 'x')\n",
    "\n",
    "player_input()"
   ]
  },
  {
   "cell_type": "code",
   "execution_count": 3,
   "id": "5b96dc4b",
   "metadata": {},
   "outputs": [
    {
     "name": "stdout",
     "output_type": "stream",
     "text": [
      "   |   |   \n",
      "   |   |   \n",
      "   |   |   \n",
      "-----------\n",
      "   |   |   \n",
      "   |   |   \n",
      "   |   |   \n",
      "-----------\n",
      "   |   |   \n",
      "   |   | x\n",
      "   |   |   \n"
     ]
    }
   ],
   "source": [
    "def place_marker(board,position,marker):\n",
    "     board[position]=marker\n",
    "\n",
    "place_marker(empty_board,3,'x')\n",
    "display_board(empty_board)"
   ]
  },
  {
   "cell_type": "code",
   "execution_count": 4,
   "id": "754e1e7d",
   "metadata": {},
   "outputs": [
    {
     "data": {
      "text/plain": [
       "False"
      ]
     },
     "execution_count": 4,
     "metadata": {},
     "output_type": "execute_result"
    }
   ],
   "source": [
    "def win_check(board,marker):\n",
    "    return ((board[7]==marker and board[8]==marker and board[9]==marker)or\n",
    "            (board[4]==marker and board[5]==marker and board[6]==marker)or\n",
    "            (board[1]==marker and board[2]==marker and board[3]==marker)or\n",
    "            (board[7]==marker and board[4]==marker and board[1]==marker)or\n",
    "            (board[8]==marker and board[5]==marker and board[2]==marker)or\n",
    "            (board[9]==marker and board[6]==marker and board[3]==marker)or\n",
    "            (board[7]==marker and board[5]==marker and board[3]==marker)or\n",
    "            (board[9]==marker and board[5]==marker and board[1]==marker))\n",
    "win_check(empty_board , 'x')"
   ]
  },
  {
   "cell_type": "code",
   "execution_count": 5,
   "id": "53c0be99",
   "metadata": {},
   "outputs": [
    {
     "data": {
      "text/plain": [
       "'player_1'"
      ]
     },
     "execution_count": 5,
     "metadata": {},
     "output_type": "execute_result"
    }
   ],
   "source": [
    "import random\n",
    "def choose_first():\n",
    "    if random.randint(0,1)==0:\n",
    "        return 'player_2'\n",
    "    else:\n",
    "        return 'player_1'\n",
    "    \n",
    "choose_first()"
   ]
  },
  {
   "cell_type": "code",
   "execution_count": 6,
   "id": "04bab379",
   "metadata": {},
   "outputs": [
    {
     "data": {
      "text/plain": [
       "False"
      ]
     },
     "execution_count": 6,
     "metadata": {},
     "output_type": "execute_result"
    }
   ],
   "source": [
    "def space_check(board,position):\n",
    "    return board[position] == ' '\n",
    "\n",
    "space_check(empty_board,3)\n"
   ]
  },
  {
   "cell_type": "code",
   "execution_count": 7,
   "id": "5b2c2f7f",
   "metadata": {},
   "outputs": [],
   "source": [
    "def full_board_check(board):\n",
    "    for i in range (1,10):\n",
    "        if space_check (board, i):\n",
    "            return False\n",
    "    \n",
    "    return True"
   ]
  },
  {
   "cell_type": "code",
   "execution_count": 8,
   "id": "ce79fd16",
   "metadata": {},
   "outputs": [],
   "source": [
    "def player_choice(board):\n",
    "    position = '0'\n",
    "    clear_output\n",
    "    while position not in ['1','2','3','4','5','6','7','8','9'] or not space_check(board, int(position)):\n",
    "        position=input('choose your next position :(1-9)')\n",
    "        \n",
    "    return int(position)"
   ]
  },
  {
   "cell_type": "code",
   "execution_count": 2,
   "id": "8d72da7e",
   "metadata": {},
   "outputs": [
    {
     "name": "stdout",
     "output_type": "stream",
     "text": [
      "do you like to play again?\n",
      " enter yes or no...\n",
      "n\n"
     ]
    },
    {
     "data": {
      "text/plain": [
       "False"
      ]
     },
     "execution_count": 2,
     "metadata": {},
     "output_type": "execute_result"
    }
   ],
   "source": [
    "def replay():\n",
    "    \n",
    "    return input('do you like to play again?\\n enter yes or no...\\n').startswith('y')\n",
    "\n",
    "replay()"
   ]
  },
  {
   "cell_type": "code",
   "execution_count": null,
   "id": "aeb4260f",
   "metadata": {},
   "outputs": [
    {
     "name": "stdout",
     "output_type": "stream",
     "text": [
      "   |   |   \n",
      "   | x | x \n",
      "   |   |   \n",
      "-----------\n",
      "   |   |   \n",
      "   | o |   \n",
      "   |   |   \n",
      "-----------\n",
      "   |   |   \n",
      " o | x |  \n",
      "   |   |   \n"
     ]
    }
   ],
   "source": [
    "print('wellcome to tic_toc_toe')\n",
    "while True:\n",
    "    the_board= [' ']* 10\n",
    "    \n",
    "    player1_marker,player2_marker = player_input()\n",
    "    \n",
    "    starter=choose_first()\n",
    "    print(f'{starter }will go first...')\n",
    "    \n",
    "    play_game=input('are you ready to play? enter yes or no:')\n",
    "    \n",
    "    if play_game[0]=='y':\n",
    "        game_on = True\n",
    "    else:\n",
    "        game_on= False\n",
    "   \n",
    "\n",
    "    while game_on:\n",
    "        \n",
    "        if starter == 'player_1':\n",
    "            display_board(the_board)\n",
    "            position = player_choice(the_board)\n",
    "            place_marker(the_board,position,player1_marker)\n",
    "            if win_check(the_board,player1_marker):\n",
    "                display_board(the_board)\n",
    "                print('congrajulation ! you have won the game!')\n",
    "                gmae_on = False\n",
    "            else:\n",
    "                if full_board_check(the_board):\n",
    "                    display_board(the_board)\n",
    "                    print('the game is a draw')\n",
    "                    break\n",
    "                else:\n",
    "                    starter = 'player_2'\n",
    "        else:\n",
    "            display_board(the_board)\n",
    "            position = player_choice(the_board)\n",
    "            place_marker(the_board,position,player2_marker)\n",
    "            if win_check(the_board,player2_marker):\n",
    "                display_board(the_board)\n",
    "                print('congrajulation ! you have won the game!')\n",
    "                game_on = False\n",
    "            else:\n",
    "                  if full_board_check(the_board):\n",
    "                        display_board(the_board)\n",
    "                        print('the game is a drow')\n",
    "                        break\n",
    "                  else:\n",
    "                    starter = 'player_1'\n",
    "                \n",
    "    if not replay():\n",
    "        break\n",
    "        \n",
    "                \n",
    "        \n",
    "    "
   ]
  },
  {
   "cell_type": "code",
   "execution_count": null,
   "id": "b2a15c85",
   "metadata": {},
   "outputs": [],
   "source": [
    "from circle import "
   ]
  }
 ],
 "metadata": {
  "kernelspec": {
   "display_name": "Python 3 (ipykernel)",
   "language": "python",
   "name": "python3"
  },
  "language_info": {
   "codemirror_mode": {
    "name": "ipython",
    "version": 3
   },
   "file_extension": ".py",
   "mimetype": "text/x-python",
   "name": "python",
   "nbconvert_exporter": "python",
   "pygments_lexer": "ipython3",
   "version": "3.11.5"
  }
 },
 "nbformat": 4,
 "nbformat_minor": 5
}
